{
 "cells": [
  {
   "cell_type": "code",
   "execution_count": 1,
   "metadata": {},
   "outputs": [],
   "source": [
    "import os\n",
    "import re\n",
    "import numpy\n",
    "from PIL import Image\n",
    "import cv2"
   ]
  },
  {
   "cell_type": "code",
   "execution_count": 2,
   "metadata": {},
   "outputs": [],
   "source": [
    "def getDimensions(filename):\n",
    "    img = cv2.imread(filename)\n",
    "    height, width, channel = img.shape\n",
    "    return height, width"
   ]
  },
  {
   "cell_type": "code",
   "execution_count": 3,
   "metadata": {},
   "outputs": [
    {
     "name": "stdout",
     "output_type": "stream",
     "text": [
      "F:/VIT/SEM 2/SET/asl-alphabet\n"
     ]
    }
   ],
   "source": [
    "paths = ['F:/VIT/SEM 2/SET/asl-alphabet']\n",
    "dimensions = []\n",
    "for path in paths:\n",
    "    print(path)\n",
    "    for root, directories, filenames in os.walk(path):\n",
    "        for filename in filenames:\n",
    "            if filename.endswith(\".jpeg\"):\n",
    "                l, w = getDimensions(os.path.join(root, filename))\n",
    "                dimensions.append([l, w])"
   ]
  },
  {
   "cell_type": "code",
   "execution_count": 4,
   "metadata": {},
   "outputs": [
    {
     "name": "stdout",
     "output_type": "stream",
     "text": [
      "400 400\n"
     ]
    }
   ],
   "source": [
    "A = numpy.asarray(dimensions)\n",
    "L, W = A.max(axis=0)\n",
    "print (L, W)"
   ]
  },
  {
   "cell_type": "code",
   "execution_count": 5,
   "metadata": {},
   "outputs": [],
   "source": [
    "def padImage(F, M, L, W):\n",
    "    img = Image.open(F, 'r')\n",
    "    img_w, img_h = img.size\n",
    "    background = Image.new('RGB', (M, M), (0, 0, 0, 255))\n",
    "    bg_w, bg_h = background.size\n",
    "    offset = (int((bg_w - img_w) / 2), int((bg_h - img_h) / 2))\n",
    "    background.paste(img, offset)\n",
    "    size = L, W\n",
    "    background = background.resize(size, Image.ANTIALIAS)\n",
    "    outputFile = F.replace(\"jpeg\", \"jpg\")\n",
    "    outputFile = F.replace(\"jpg\", \"jpg\")\n",
    "    background.save(outputFile)"
   ]
  },
  {
   "cell_type": "code",
   "execution_count": 6,
   "metadata": {},
   "outputs": [],
   "source": [
    "for path in paths:\n",
    "    for root, directories, filenames in os.walk(path):\n",
    "        for filename in filenames:\n",
    "            if filename.endswith(\".jpeg\"):\n",
    "                l, w = getDimensions(os.path.join(root, filename))\n",
    "                m = max(l, w)\n",
    "                padImage(os.path.join(root, filename), m, 200, 200)"
   ]
  },
  {
   "cell_type": "code",
   "execution_count": null,
   "metadata": {},
   "outputs": [],
   "source": []
  }
 ],
 "metadata": {
  "kernelspec": {
   "display_name": "Python 3",
   "language": "python",
   "name": "python3"
  },
  "language_info": {
   "codemirror_mode": {
    "name": "ipython",
    "version": 3
   },
   "file_extension": ".py",
   "mimetype": "text/x-python",
   "name": "python",
   "nbconvert_exporter": "python",
   "pygments_lexer": "ipython3",
   "version": "3.7.3"
  }
 },
 "nbformat": 4,
 "nbformat_minor": 2
}
