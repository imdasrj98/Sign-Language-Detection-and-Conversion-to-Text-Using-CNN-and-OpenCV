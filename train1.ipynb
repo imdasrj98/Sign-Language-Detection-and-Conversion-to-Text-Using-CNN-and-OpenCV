{
  "nbformat": 4,
  "nbformat_minor": 0,
  "metadata": {
    "colab": {
      "name": "train1.ipynb",
      "provenance": [],
      "collapsed_sections": [],
      "toc_visible": true,
      "machine_shape": "hm",
      "mount_file_id": "1I5Qimt-oDk7iPkUiBOs5NLVaN0Jc2dcx",
      "authorship_tag": "ABX9TyMfkQVvNN03z0ttkr+/iTgE",
      "include_colab_link": true
    },
    "kernelspec": {
      "name": "python3",
      "display_name": "Python 3"
    },
    "accelerator": "GPU"
  },
  "cells": [
    {
      "cell_type": "markdown",
      "metadata": {
        "id": "view-in-github",
        "colab_type": "text"
      },
      "source": [
        "<a href=\"https://colab.research.google.com/github/imdasrj98/Sign-Language-Detection-and-Conversion-to-Text-Using-CNN-and-OpenCV/blob/master/train1.ipynb\" target=\"_parent\"><img src=\"https://colab.research.google.com/assets/colab-badge.svg\" alt=\"Open In Colab\"/></a>"
      ]
    },
    {
      "cell_type": "code",
      "metadata": {
        "id": "w05J9kV5d3Ir",
        "colab_type": "code",
        "outputId": "0acbf6f5-1389-493b-9ac3-32926b821936",
        "colab": {
          "base_uri": "https://localhost:8080/",
          "height": 79
        }
      },
      "source": [
        "import numpy\n",
        "import os\n",
        "from keras.preprocessing.image import img_to_array, load_img\n",
        "from keras.optimizers import SGD\n",
        "from keras.models import Sequential\n",
        "from keras.layers.core import Dense, Activation, Flatten\n",
        "from keras.layers.convolutional import Convolution2D, MaxPooling2D\n",
        "from keras.utils import np_utils\n",
        "from PIL import Image\n",
        "import keras"
      ],
      "execution_count": 1,
      "outputs": [
        {
          "output_type": "stream",
          "text": [
            "Using TensorFlow backend.\n"
          ],
          "name": "stderr"
        },
        {
          "output_type": "display_data",
          "data": {
            "text/html": [
              "<p style=\"color: red;\">\n",
              "The default version of TensorFlow in Colab will soon switch to TensorFlow 2.x.<br>\n",
              "We recommend you <a href=\"https://www.tensorflow.org/guide/migrate\" target=\"_blank\">upgrade</a> now \n",
              "or ensure your notebook will continue to use TensorFlow 1.x via the <code>%tensorflow_version 1.x</code> magic:\n",
              "<a href=\"https://colab.research.google.com/notebooks/tensorflow_version.ipynb\" target=\"_blank\">more info</a>.</p>\n"
            ],
            "text/plain": [
              "<IPython.core.display.HTML object>"
            ]
          },
          "metadata": {
            "tags": []
          }
        }
      ]
    },
    {
      "cell_type": "code",
      "metadata": {
        "id": "Jlz_CAI1fPO_",
        "colab_type": "code",
        "colab": {}
      },
      "source": [
        "paths=['/content/drive/My Drive/asl_dataset']\n",
        "\n",
        "x_train = []  # training lists\n",
        "y_train = []\n",
        "nb_classes = 36 # number of classes\n",
        "img_rows, img_cols = 400, 400  # size of training images\n",
        "img_channels = 3  # BGR channels\n",
        "batch_size = 32\n",
        "nb_epoch = 15  # iterations for training\n",
        "data_augmentation = True"
      ],
      "execution_count": 0,
      "outputs": []
    },
    {
      "cell_type": "code",
      "metadata": {
        "id": "EeQowr-OjA8K",
        "colab_type": "code",
        "colab": {}
      },
      "source": [
        "classes = {\n",
        "    '0': 0,\n",
        "    '1': 1,\n",
        "    '2': 2,\n",
        "    '3': 3,\n",
        "    '4': 4,\n",
        "    '5': 5,\n",
        "    '6': 6,\n",
        "    '7': 7,\n",
        "    '8': 8,\n",
        "    '9': 9,\n",
        "    'A': 10,\n",
        "    'B': 11,\n",
        "    'C': 12,\n",
        "    'D': 13,\n",
        "    'E': 14,\n",
        "    'F': 15,\n",
        "    'G': 16,\n",
        "    'H': 17,\n",
        "    'I': 18,\n",
        "    'J': 19,\n",
        "    'K': 20,\n",
        "    'L': 21,\n",
        "    'M': 22,\n",
        "    'N': 23,\n",
        "    'O': 24,\n",
        "    'P': 25,\n",
        "    'Q': 26,\n",
        "    'R': 27,\n",
        "    'S': 28,\n",
        "    'T': 29,\n",
        "    'U': 30,\n",
        "    'V': 31,\n",
        "    'W': 32,\n",
        "    'X': 33,\n",
        "    'Y': 34,\n",
        "    'Z': 35,\n",
        "}"
      ],
      "execution_count": 0,
      "outputs": []
    },
    {
      "cell_type": "code",
      "metadata": {
        "id": "gSIOd03xjGu0",
        "colab_type": "code",
        "colab": {}
      },
      "source": [
        "def load_data_set():\n",
        "    for path in paths:\n",
        "        print(path)\n",
        "        for root, directories, filenames in os.walk(path):\n",
        "            print(filenames)\n",
        "            for filename in filenames:\n",
        "                if filename.endswith(\".jpeg\"):\n",
        "                    fullpath = os.path.join(root, filename)\n",
        "                    #print(fullpath)\n",
        "                    img = load_img(fullpath)\n",
        "                    img = img_to_array(img)\n",
        "                    x_train.append(img)\n",
        "                    #str=fullpath.split(\"/\")\n",
        "                    ind=fullpath.rindex('/')\n",
        "                    s=fullpath[ind-1]\n",
        "                    #print(s)\n",
        "                    y_train.append(classes[s.upper()])\n",
        "                    #print(,\" --> appended\")\n",
        "    print(\"data set loaded\")"
      ],
      "execution_count": 0,
      "outputs": []
    },
    {
      "cell_type": "code",
      "metadata": {
        "id": "GYLPgrwVjT8k",
        "colab_type": "code",
        "colab": {}
      },
      "source": [
        "def make_network(x_train):\n",
        "    model = Sequential()\n",
        "\n",
        "    model.add(Convolution2D(32, 3, 3, border_mode='same',\n",
        "                            input_shape=x_train.shape[1:]))\n",
        "    model.add(Activation('relu'))\n",
        "    model.add(Convolution2D(32, 3, 3))\n",
        "    model.add(Activation('relu'))\n",
        "    model.add(MaxPooling2D(pool_size=(2, 2)))\n",
        "\n",
        "    model.add(Convolution2D(64, 3, 3, border_mode='same'))\n",
        "    model.add(Activation('relu'))\n",
        "    model.add(Convolution2D(64, 3, 3))\n",
        "    model.add(Activation('relu'))\n",
        "    model.add(MaxPooling2D(pool_size=(2, 2)))\n",
        "\n",
        "    model.add(Flatten())\n",
        "    model.add(Dense(512))\n",
        "    model.add(Activation('relu'))\n",
        "    model.add(Dense(nb_classes))\n",
        "    model.add(Activation('softmax'))\n",
        "    \n",
        "    print(\"Network Made\")\n",
        "\n",
        "    return model"
      ],
      "execution_count": 0,
      "outputs": []
    },
    {
      "cell_type": "code",
      "metadata": {
        "id": "fpLAl7yotTp1",
        "colab_type": "code",
        "colab": {}
      },
      "source": [
        "def train_model(model, X_train, Y_train):\n",
        "    # let's train the model using SGD + momentum (how original).\n",
        "    sgd = SGD(lr=0.01, decay=1e-6, momentum=0.9, nesterov=True)\n",
        "    model.compile(loss='categorical_crossentropy',\n",
        "                  optimizer=sgd,\n",
        "                  metrics=['accuracy'])\n",
        "\n",
        "    model.fit(X_train, Y_train,\n",
        "              batch_size=batch_size,\n",
        "              nb_epoch=10)\n",
        "    print(\"model Fit\")"
      ],
      "execution_count": 0,
      "outputs": []
    },
    {
      "cell_type": "code",
      "metadata": {
        "id": "yAGKhKeRtYkS",
        "colab_type": "code",
        "colab": {}
      },
      "source": [
        "def trainData():\n",
        "    load_data_set()\n",
        "    #print(\"in\")\n",
        "    a = numpy.asarray(y_train)\n",
        "    y_train_new = a.reshape(a.shape[0], 1)\n",
        "    #print(\"y_train_new\")\n",
        "    X_train = numpy.asarray(x_train).astype('float32')\n",
        "    X_train = X_train / 255.0\n",
        "    Y_train = np_utils.to_categorical(y_train_new, nb_classes)\n",
        "    #print(\"y_train\")\n",
        "    # run this if model is not saved.\n",
        "    model = make_network(numpy.asarray(x_train))\n",
        "    train_model(model,X_train,Y_train)\n",
        "    #model.save(\"./asl_dataset/model2.model\")\n",
        "    \n",
        "    print(\"Model Built\")\n",
        "\n",
        "    # run this if model is already saved on disk.\n",
        "    # model = keras.models.load_model('/home/snrao/IDE/PycharmProjects/ASL Finger Spelling Recognition/keras.model')\n",
        "\n",
        "    return model"
      ],
      "execution_count": 0,
      "outputs": []
    },
    {
      "cell_type": "code",
      "metadata": {
        "id": "_RH2fWUxtlAI",
        "colab_type": "code",
        "outputId": "9d21e22b-b6f8-44b0-aebb-872d20e7f345",
        "colab": {
          "base_uri": "https://localhost:8080/",
          "height": 1000
        }
      },
      "source": [
        "model=trainData()"
      ],
      "execution_count": 8,
      "outputs": [
        {
          "output_type": "stream",
          "text": [
            "/content/drive/My Drive/asl_dataset\n",
            "['asl.model']\n",
            "['hand1_s_bot_seg_1_cropped.jpeg', 'hand1_s_bot_seg_2_cropped.jpeg', 'hand1_s_bot_seg_3_cropped.jpeg', 'hand1_s_bot_seg_4_cropped.jpeg', 'hand1_s_dif_seg_1_cropped.jpeg', 'hand1_s_bot_seg_5_cropped.jpeg', 'hand1_s_dif_seg_2_cropped.jpeg', 'hand1_s_dif_seg_5_cropped.jpeg', 'hand1_s_left_seg_2_cropped.jpeg', 'hand1_s_left_seg_1_cropped.jpeg', 'hand1_s_left_seg_3_cropped.jpeg', 'hand1_s_dif_seg_3_cropped.jpeg', 'hand1_s_dif_seg_4_cropped.jpeg', 'hand1_s_left_seg_4_cropped.jpeg', 'hand1_s_right_seg_3_cropped.jpeg', 'hand1_s_left_seg_5_cropped.jpeg', 'hand1_s_right_seg_1_cropped.jpeg', 'hand1_s_right_seg_2_cropped.jpeg', 'hand1_s_right_seg_5_cropped.jpeg', 'hand1_s_top_seg_1_cropped.jpeg', 'hand1_s_right_seg_4_cropped.jpeg', 'hand1_s_top_seg_3_cropped.jpeg', 'hand1_s_top_seg_2_cropped.jpeg', 'hand1_s_top_seg_4_cropped.jpeg', 'hand2_s_bot_seg_2_cropped.jpeg', 'hand2_s_bot_seg_1_cropped.jpeg', 'hand1_s_top_seg_5_cropped.jpeg', 'hand2_s_bot_seg_3_cropped.jpeg', 'hand2_s_bot_seg_5_cropped.jpeg', 'hand2_s_bot_seg_4_cropped.jpeg', 'hand2_s_dif_seg_2_cropped.jpeg', 'hand2_s_dif_seg_1_cropped.jpeg', 'hand2_s_dif_seg_3_cropped.jpeg', 'hand2_s_dif_seg_4_cropped.jpeg', 'hand2_s_dif_seg_5_cropped.jpeg', 'hand2_s_left_seg_2_cropped.jpeg', 'hand2_s_left_seg_1_cropped.jpeg', 'hand2_s_left_seg_3_cropped.jpeg', 'hand2_s_left_seg_5_cropped.jpeg', 'hand2_s_right_seg_1_cropped.jpeg', 'hand2_s_left_seg_4_cropped.jpeg', 'hand2_s_right_seg_4_cropped.jpeg', 'hand2_s_right_seg_2_cropped.jpeg', 'hand2_s_right_seg_3_cropped.jpeg', 'hand2_s_right_seg_5_cropped.jpeg', 'hand2_s_top_seg_2_cropped.jpeg', 'hand2_s_top_seg_1_cropped.jpeg', 'hand2_s_top_seg_3_cropped.jpeg', 'hand3_s_dif_seg_4_cropped.jpeg', 'hand3_s_dif_seg_2_cropped.jpeg', 'hand3_s_dif_seg_1_cropped.jpeg', 'hand2_s_top_seg_5_cropped.jpeg', 'hand2_s_top_seg_4_cropped.jpeg', 'hand4_s_bot_seg_2_cropped.jpeg', 'hand4_s_bot_seg_1_cropped.jpeg', 'hand3_s_dif_seg_5_cropped.jpeg', 'hand3_s_dif_seg_3_cropped.jpeg', 'hand4_s_bot_seg_3_cropped.jpeg', 'hand5_s_bot_seg_2_cropped.jpeg', 'hand4_s_bot_seg_4_cropped.jpeg', 'hand5_s_bot_seg_1_cropped.jpeg', 'hand4_s_bot_seg_5_cropped.jpeg', 'hand5_s_dif_seg_2_cropped.jpeg', 'hand5_s_bot_seg_4_cropped.jpeg', 'hand5_s_bot_seg_5_cropped.jpeg', 'hand5_s_bot_seg_3_cropped.jpeg', 'hand5_s_dif_seg_1_cropped.jpeg', 'hand5_s_dif_seg_3_cropped.jpeg', 'hand5_s_dif_seg_4_cropped.jpeg', 'hand5_s_dif_seg_5_cropped.jpeg']\n",
            "['hand1_v_bot_seg_1_cropped.jpeg', 'hand1_v_bot_seg_2_cropped.jpeg', 'hand1_v_bot_seg_3_cropped.jpeg', 'hand1_v_bot_seg_4_cropped.jpeg', 'hand1_v_bot_seg_5_cropped.jpeg', 'hand1_v_dif_seg_1_cropped.jpeg', 'hand1_v_dif_seg_2_cropped.jpeg', 'hand1_v_left_seg_3_cropped.jpeg', 'hand1_v_dif_seg_3_cropped.jpeg', 'hand1_v_dif_seg_5_cropped.jpeg', 'hand1_v_left_seg_1_cropped.jpeg', 'hand1_v_dif_seg_4_cropped.jpeg', 'hand1_v_left_seg_4_cropped.jpeg', 'hand1_v_left_seg_5_cropped.jpeg', 'hand1_v_right_seg_1_cropped.jpeg', 'hand1_v_left_seg_2_cropped.jpeg', 'hand1_v_right_seg_2_cropped.jpeg', 'hand1_v_top_seg_1_cropped.jpeg', 'hand1_v_top_seg_2_cropped.jpeg', 'hand1_v_top_seg_5_cropped.jpeg', 'hand1_v_top_seg_3_cropped.jpeg', 'hand1_v_top_seg_4_cropped.jpeg', 'hand2_v_bot_seg_1_cropped.jpeg', 'hand1_v_right_seg_3_cropped.jpeg', 'hand1_v_right_seg_5_cropped.jpeg', 'hand1_v_right_seg_4_cropped.jpeg', 'hand2_v_bot_seg_2_cropped.jpeg', 'hand2_v_dif_seg_1_cropped.jpeg', 'hand2_v_bot_seg_5_cropped.jpeg', 'hand2_v_bot_seg_3_cropped.jpeg', 'hand2_v_bot_seg_4_cropped.jpeg', 'hand2_v_dif_seg_2_cropped.jpeg', 'hand2_v_left_seg_1_cropped.jpeg', 'hand2_v_dif_seg_4_cropped.jpeg', 'hand2_v_dif_seg_5_cropped.jpeg', 'hand2_v_dif_seg_3_cropped.jpeg', 'hand2_v_left_seg_2_cropped.jpeg', 'hand2_v_right_seg_1_cropped.jpeg', 'hand2_v_left_seg_3_cropped.jpeg', 'hand2_v_left_seg_4_cropped.jpeg', 'hand2_v_left_seg_5_cropped.jpeg', 'hand2_v_right_seg_4_cropped.jpeg', 'hand2_v_right_seg_2_cropped.jpeg', 'hand2_v_right_seg_3_cropped.jpeg', 'hand2_v_right_seg_5_cropped.jpeg', 'hand2_v_top_seg_1_cropped.jpeg', 'hand2_v_top_seg_2_cropped.jpeg', 'hand2_v_top_seg_4_cropped.jpeg', 'hand2_v_top_seg_5_cropped.jpeg', 'hand2_v_top_seg_3_cropped.jpeg', 'hand3_v_dif_seg_1_cropped.jpeg', 'hand4_v_bot_seg_1_cropped.jpeg', 'hand3_v_dif_seg_4_cropped.jpeg', 'hand3_v_dif_seg_3_cropped.jpeg', 'hand3_v_dif_seg_5_cropped.jpeg', 'hand3_v_dif_seg_2_cropped.jpeg', 'hand4_v_bot_seg_2_cropped.jpeg', 'hand4_v_bot_seg_3_cropped.jpeg', 'hand4_v_bot_seg_4_cropped.jpeg', 'hand4_v_bot_seg_5_cropped.jpeg', 'hand5_v_bot_seg_1_cropped.jpeg', 'hand5_v_dif_seg_2_cropped.jpeg', 'hand5_v_dif_seg_3_cropped.jpeg', 'hand5_v_dif_seg_5_cropped.jpeg', 'hand5_v_dif_seg_4_cropped.jpeg', 'hand5_v_bot_seg_2_cropped.jpeg', 'hand5_v_bot_seg_3_cropped.jpeg', 'hand5_v_dif_seg_1_cropped.jpeg', 'hand5_v_bot_seg_5_cropped.jpeg', 'hand5_v_bot_seg_4_cropped.jpeg']\n",
            "['hand1_w_bot_seg_2_cropped.jpeg', 'hand1_w_bot_seg_1_cropped.jpeg', 'hand1_w_bot_seg_3_cropped.jpeg', 'hand1_w_dif_seg_5_cropped.jpeg', 'hand1_w_dif_seg_1_cropped.jpeg', 'hand1_w_bot_seg_4_cropped.jpeg', 'hand1_w_dif_seg_2_cropped.jpeg', 'hand1_w_bot_seg_5_cropped.jpeg', 'hand1_w_left_seg_1_cropped.jpeg', 'hand1_w_left_seg_2_cropped.jpeg', 'hand1_w_dif_seg_4_cropped.jpeg', 'hand1_w_dif_seg_3_cropped.jpeg', 'hand1_w_left_seg_3_cropped.jpeg', 'hand1_w_right_seg_2_cropped.jpeg', 'hand1_w_left_seg_4_cropped.jpeg', 'hand1_w_right_seg_1_cropped.jpeg', 'hand1_w_left_seg_5_cropped.jpeg', 'hand1_w_right_seg_4_cropped.jpeg', 'hand1_w_right_seg_5_cropped.jpeg', 'hand1_w_right_seg_3_cropped.jpeg', 'hand1_w_top_seg_1_cropped.jpeg', 'hand1_w_top_seg_3_cropped.jpeg', 'hand2_w_bot_seg_1_cropped.jpeg', 'hand1_w_top_seg_5_cropped.jpeg', 'hand1_w_top_seg_4_cropped.jpeg', 'hand1_w_top_seg_2_cropped.jpeg', 'hand2_w_bot_seg_2_cropped.jpeg', 'hand2_w_dif_seg_1_cropped.jpeg', 'hand2_w_dif_seg_3_cropped.jpeg', 'hand2_w_dif_seg_4_cropped.jpeg', 'hand2_w_dif_seg_2_cropped.jpeg', 'hand2_w_dif_seg_5_cropped.jpeg', 'hand2_w_left_seg_1_cropped.jpeg', 'hand2_w_bot_seg_5_cropped.jpeg', 'hand2_w_bot_seg_3_cropped.jpeg', 'hand2_w_bot_seg_4_cropped.jpeg', 'hand2_w_left_seg_2_cropped.jpeg', 'hand2_w_left_seg_4_cropped.jpeg', 'hand2_w_left_seg_3_cropped.jpeg', 'hand2_w_right_seg_1_cropped.jpeg', 'hand2_w_left_seg_5_cropped.jpeg', 'hand2_w_right_seg_3_cropped.jpeg', 'hand2_w_top_seg_1_cropped.jpeg', 'hand2_w_right_seg_5_cropped.jpeg', 'hand2_w_right_seg_4_cropped.jpeg', 'hand2_w_right_seg_2_cropped.jpeg', 'hand2_w_top_seg_2_cropped.jpeg', 'hand3_w_dif_seg_1_cropped.jpeg', 'hand2_w_top_seg_4_cropped.jpeg', 'hand2_w_top_seg_3_cropped.jpeg', 'hand2_w_top_seg_5_cropped.jpeg', 'hand3_w_dif_seg_5_cropped.jpeg', 'hand3_w_dif_seg_2_cropped.jpeg', 'hand3_w_dif_seg_4_cropped.jpeg', 'hand3_w_dif_seg_3_cropped.jpeg', 'hand4_w_bot_seg_1_cropped.jpeg', 'hand4_w_bot_seg_2_cropped.jpeg', 'hand5_w_bot_seg_3_cropped.jpeg', 'hand4_w_bot_seg_4_cropped.jpeg', 'hand4_w_bot_seg_5_cropped.jpeg', 'hand4_w_bot_seg_3_cropped.jpeg', 'hand5_w_bot_seg_1_cropped.jpeg', 'hand5_w_bot_seg_2_cropped.jpeg', 'hand5_w_dif_seg_1_cropped.jpeg', 'hand5_w_bot_seg_4_cropped.jpeg', 'hand5_w_bot_seg_5_cropped.jpeg', 'hand5_w_dif_seg_2_cropped.jpeg', 'hand5_w_dif_seg_3_cropped.jpeg', 'hand5_w_dif_seg_4_cropped.jpeg', 'hand5_w_dif_seg_5_cropped.jpeg']\n",
            "['hand1_t_bot_seg_4_cropped.jpeg', 'hand1_t_bot_seg_3_cropped.jpeg', 'hand1_t_bot_seg_1_cropped.jpeg', 'hand1_t_bot_seg_2_cropped.jpeg', 'hand1_t_dif_seg_3_cropped.jpeg', 'hand1_t_dif_seg_4_cropped.jpeg', 'hand1_t_left_seg_2_cropped.jpeg', 'hand1_t_dif_seg_5_cropped.jpeg', 'hand1_t_left_seg_1_cropped.jpeg', 'hand1_t_left_seg_3_cropped.jpeg', 'hand1_t_left_seg_4_cropped.jpeg', 'hand1_t_dif_seg_1_cropped.jpeg', 'hand1_t_bot_seg_5_cropped.jpeg', 'hand1_t_dif_seg_2_cropped.jpeg', 'hand1_t_left_seg_5_cropped.jpeg', 'hand1_t_right_seg_4_cropped.jpeg', 'hand1_t_right_seg_1_cropped.jpeg', 'hand1_t_right_seg_2_cropped.jpeg', 'hand1_t_top_seg_2_cropped.jpeg', 'hand1_t_right_seg_3_cropped.jpeg', 'hand1_t_right_seg_5_cropped.jpeg', 'hand1_t_top_seg_1_cropped.jpeg', 'hand1_t_top_seg_4_cropped.jpeg', 'hand1_t_top_seg_3_cropped.jpeg', 'hand1_t_top_seg_5_cropped.jpeg', 'hand2_t_left_seg_1_cropped.jpeg', 'hand2_t_bot_seg_3_cropped.jpeg', 'hand2_t_bot_seg_2_cropped.jpeg', 'hand2_t_bot_seg_4_cropped.jpeg', 'hand2_t_bot_seg_1_cropped.jpeg', 'hand2_t_left_seg_2_cropped.jpeg', 'hand2_t_left_seg_4_cropped.jpeg', 'hand2_t_left_seg_3_cropped.jpeg', 'hand2_t_bot_seg_5_cropped.jpeg', 'hand2_t_left_seg_5_cropped.jpeg', 'hand2_t_right_seg_2_cropped.jpeg', 'hand2_t_right_seg_3_cropped.jpeg', 'hand2_t_right_seg_1_cropped.jpeg', 'hand2_t_top_seg_2_cropped.jpeg', 'hand2_t_top_seg_1_cropped.jpeg', 'hand2_t_right_seg_4_cropped.jpeg', 'hand2_t_top_seg_4_cropped.jpeg', 'hand2_t_right_seg_5_cropped.jpeg', 'hand2_t_top_seg_3_cropped.jpeg', 'hand3_t_dif_seg_2_cropped.jpeg', 'hand2_t_top_seg_5_cropped.jpeg', 'hand3_t_dif_seg_1_cropped.jpeg', 'hand3_t_dif_seg_3_cropped.jpeg', 'hand3_t_dif_seg_4_cropped.jpeg', 'hand4_t_bot_seg_5_cropped.jpeg', 'hand4_t_bot_seg_3_cropped.jpeg', 'hand3_t_dif_seg_5_cropped.jpeg', 'hand4_t_bot_seg_4_cropped.jpeg', 'hand4_t_bot_seg_2_cropped.jpeg', 'hand5_t_bot_seg_3_cropped.jpeg', 'hand5_t_bot_seg_2_cropped.jpeg', 'hand5_t_bot_seg_1_cropped.jpeg', 'hand4_t_bot_seg_1_cropped.jpeg', 'hand5_t_bot_seg_5_cropped.jpeg', 'hand5_t_dif_seg_5_cropped.jpeg', 'hand5_t_dif_seg_4_cropped.jpeg', 'hand5_t_dif_seg_1_cropped.jpeg', 'hand5_t_dif_seg_3_cropped.jpeg', 'hand5_t_dif_seg_2_cropped.jpeg', 'hand5_t_bot_seg_4_cropped.jpeg']\n",
            "['hand1_x_bot_seg_2_cropped.jpeg', 'hand1_x_bot_seg_1_cropped.jpeg', 'hand1_x_bot_seg_3_cropped.jpeg', 'hand1_x_dif_seg_1_cropped.jpeg', 'hand1_x_bot_seg_5_cropped.jpeg', 'hand1_x_bot_seg_4_cropped.jpeg', 'hand1_x_dif_seg_2_cropped.jpeg', 'hand1_x_dif_seg_4_cropped.jpeg', 'hand1_x_left_seg_2_cropped.jpeg', 'hand1_x_dif_seg_5_cropped.jpeg', 'hand1_x_left_seg_1_cropped.jpeg', 'hand1_x_dif_seg_3_cropped.jpeg', 'hand1_x_left_seg_3_cropped.jpeg', 'hand1_x_right_seg_2_cropped.jpeg', 'hand1_x_top_seg_1_cropped.jpeg', 'hand1_x_right_seg_3_cropped.jpeg', 'hand1_x_right_seg_5_cropped.jpeg', 'hand1_x_right_seg_4_cropped.jpeg', 'hand1_x_left_seg_4_cropped.jpeg', 'hand1_x_right_seg_1_cropped.jpeg', 'hand1_x_left_seg_5_cropped.jpeg', 'hand1_x_top_seg_2_cropped.jpeg', 'hand1_x_top_seg_3_cropped.jpeg', 'hand2_x_bot_seg_2_cropped.jpeg', 'hand1_x_top_seg_4_cropped.jpeg', 'hand2_x_bot_seg_1_cropped.jpeg', 'hand1_x_top_seg_5_cropped.jpeg', 'hand2_x_bot_seg_3_cropped.jpeg', 'hand2_x_bot_seg_5_cropped.jpeg', 'hand2_x_dif_seg_1_cropped.jpeg', 'hand2_x_dif_seg_2_cropped.jpeg', 'hand2_x_bot_seg_4_cropped.jpeg', 'hand2_x_dif_seg_3_cropped.jpeg', 'hand2_x_left_seg_2_cropped.jpeg', 'hand2_x_left_seg_1_cropped.jpeg', 'hand2_x_dif_seg_5_cropped.jpeg', 'hand2_x_dif_seg_4_cropped.jpeg', 'hand2_x_left_seg_3_cropped.jpeg', 'hand2_x_left_seg_5_cropped.jpeg', 'hand2_x_left_seg_4_cropped.jpeg', 'hand2_x_right_seg_1_cropped.jpeg', 'hand2_x_right_seg_3_cropped.jpeg', 'hand2_x_right_seg_2_cropped.jpeg', 'hand2_x_top_seg_2_cropped.jpeg', 'hand2_x_top_seg_3_cropped.jpeg', 'hand2_x_top_seg_4_cropped.jpeg', 'hand3_x_dif_seg_1_cropped.jpeg', 'hand2_x_top_seg_5_cropped.jpeg', 'hand3_x_dif_seg_2_cropped.jpeg', 'hand2_x_right_seg_4_cropped.jpeg', 'hand2_x_right_seg_5_cropped.jpeg', 'hand2_x_top_seg_1_cropped.jpeg', 'hand3_x_dif_seg_3_cropped.jpeg', 'hand4_x_bot_seg_4_cropped.jpeg', 'hand4_x_bot_seg_3_cropped.jpeg', 'hand4_x_bot_seg_1_cropped.jpeg', 'hand3_x_dif_seg_5_cropped.jpeg', 'hand4_x_bot_seg_2_cropped.jpeg', 'hand3_x_dif_seg_4_cropped.jpeg', 'hand4_x_bot_seg_5_cropped.jpeg', 'hand5_x_bot_seg_2_cropped.jpeg', 'hand5_x_bot_seg_1_cropped.jpeg', 'hand5_x_bot_seg_3_cropped.jpeg', 'hand5_x_dif_seg_4_cropped.jpeg', 'hand5_x_dif_seg_2_cropped.jpeg', 'hand5_x_dif_seg_1_cropped.jpeg', 'hand5_x_bot_seg_4_cropped.jpeg', 'hand5_x_bot_seg_5_cropped.jpeg', 'hand5_x_dif_seg_5_cropped.jpeg', 'hand5_x_dif_seg_3_cropped.jpeg']\n",
            "['hand1_u_bot_seg_4_cropped.jpeg', 'hand1_u_dif_seg_4_cropped.jpeg', 'hand1_u_bot_seg_1_cropped.jpeg', 'hand1_u_bot_seg_3_cropped.jpeg', 'hand1_u_bot_seg_2_cropped.jpeg', 'hand1_u_dif_seg_3_cropped.jpeg', 'hand1_u_dif_seg_1_cropped.jpeg', 'hand1_u_dif_seg_2_cropped.jpeg', 'hand1_u_bot_seg_5_cropped.jpeg', 'hand1_u_dif_seg_5_cropped.jpeg', 'hand1_u_left_seg_3_cropped.jpeg', 'hand1_u_left_seg_2_cropped.jpeg', 'hand1_u_left_seg_1_cropped.jpeg', 'hand1_u_left_seg_4_cropped.jpeg', 'hand1_u_left_seg_5_cropped.jpeg', 'hand1_u_right_seg_5_cropped.jpeg', 'hand1_u_right_seg_3_cropped.jpeg', 'hand1_u_right_seg_4_cropped.jpeg', 'hand1_u_right_seg_1_cropped.jpeg', 'hand1_u_right_seg_2_cropped.jpeg', 'hand1_u_top_seg_1_cropped.jpeg', 'hand1_u_top_seg_2_cropped.jpeg', 'hand1_u_top_seg_4_cropped.jpeg', 'hand1_u_top_seg_3_cropped.jpeg', 'hand2_u_bot_seg_5_cropped.jpeg', 'hand2_u_bot_seg_4_cropped.jpeg', 'hand1_u_top_seg_5_cropped.jpeg', 'hand2_u_bot_seg_2_cropped.jpeg', 'hand2_u_bot_seg_1_cropped.jpeg', 'hand2_u_bot_seg_3_cropped.jpeg', 'hand2_u_dif_seg_4_cropped.jpeg', 'hand2_u_dif_seg_2_cropped.jpeg', 'hand2_u_dif_seg_3_cropped.jpeg', 'hand2_u_dif_seg_1_cropped.jpeg', 'hand2_u_left_seg_3_cropped.jpeg', 'hand2_u_dif_seg_5_cropped.jpeg', 'hand2_u_left_seg_1_cropped.jpeg', 'hand2_u_left_seg_5_cropped.jpeg', 'hand2_u_left_seg_4_cropped.jpeg', 'hand2_u_left_seg_2_cropped.jpeg', 'hand2_u_right_seg_1_cropped.jpeg', 'hand2_u_right_seg_2_cropped.jpeg', 'hand2_u_right_seg_3_cropped.jpeg', 'hand2_u_right_seg_4_cropped.jpeg', 'hand2_u_top_seg_1_cropped.jpeg', 'hand2_u_right_seg_5_cropped.jpeg', 'hand2_u_top_seg_4_cropped.jpeg', 'hand2_u_top_seg_2_cropped.jpeg', 'hand2_u_top_seg_3_cropped.jpeg', 'hand3_u_dif_seg_1_cropped.jpeg', 'hand2_u_top_seg_5_cropped.jpeg', 'hand3_u_dif_seg_3_cropped.jpeg', 'hand3_u_dif_seg_2_cropped.jpeg', 'hand3_u_dif_seg_4_cropped.jpeg', 'hand3_u_dif_seg_5_cropped.jpeg', 'hand4_u_bot_seg_2_cropped.jpeg', 'hand4_u_bot_seg_3_cropped.jpeg', 'hand4_u_bot_seg_4_cropped.jpeg', 'hand4_u_bot_seg_5_cropped.jpeg', 'hand4_u_bot_seg_1_cropped.jpeg', 'hand5_u_bot_seg_1_cropped.jpeg', 'hand5_u_bot_seg_2_cropped.jpeg', 'hand5_u_bot_seg_3_cropped.jpeg', 'hand5_u_bot_seg_4_cropped.jpeg', 'hand5_u_dif_seg_1_cropped.jpeg', 'hand5_u_bot_seg_5_cropped.jpeg', 'hand5_u_dif_seg_3_cropped.jpeg', 'hand5_u_dif_seg_2_cropped.jpeg', 'hand5_u_dif_seg_5_cropped.jpeg', 'hand5_u_dif_seg_4_cropped.jpeg']\n",
            "['hand1_r_bot_seg_1_cropped.jpeg', 'hand1_r_dif_seg_2_cropped.jpeg', 'hand1_r_dif_seg_5_cropped.jpeg', 'hand1_r_left_seg_1_cropped.jpeg', 'hand1_r_dif_seg_4_cropped.jpeg', 'hand1_r_dif_seg_3_cropped.jpeg', 'hand1_r_left_seg_5_cropped.jpeg', 'hand1_r_dif_seg_1_cropped.jpeg', 'hand1_r_bot_seg_2_cropped.jpeg', 'hand1_r_bot_seg_3_cropped.jpeg', 'hand1_r_bot_seg_5_cropped.jpeg', 'hand1_r_bot_seg_4_cropped.jpeg', 'hand1_r_left_seg_2_cropped.jpeg', 'hand1_r_left_seg_3_cropped.jpeg', 'hand1_r_left_seg_4_cropped.jpeg', 'hand1_r_right_seg_4_cropped.jpeg', 'hand1_r_top_seg_5_cropped.jpeg', 'hand1_r_right_seg_3_cropped.jpeg', 'hand1_r_right_seg_2_cropped.jpeg', 'hand1_r_right_seg_1_cropped.jpeg', 'hand1_r_top_seg_2_cropped.jpeg', 'hand1_r_top_seg_3_cropped.jpeg', 'hand1_r_top_seg_1_cropped.jpeg', 'hand1_r_top_seg_4_cropped.jpeg', 'hand1_r_right_seg_5_cropped.jpeg', 'hand2_r_bot_seg_1_cropped.jpeg', 'hand2_r_bot_seg_4_cropped.jpeg', 'hand2_r_bot_seg_5_cropped.jpeg', 'hand2_r_bot_seg_2_cropped.jpeg', 'hand2_r_bot_seg_3_cropped.jpeg', 'hand2_r_dif_seg_1_cropped.jpeg', 'hand2_r_dif_seg_2_cropped.jpeg', 'hand2_r_dif_seg_5_cropped.jpeg', 'hand2_r_dif_seg_3_cropped.jpeg', 'hand2_r_dif_seg_4_cropped.jpeg', 'hand2_r_left_seg_1_cropped.jpeg', 'hand2_r_left_seg_3_cropped.jpeg', 'hand2_r_left_seg_2_cropped.jpeg', 'hand2_r_left_seg_5_cropped.jpeg', 'hand2_r_left_seg_4_cropped.jpeg', 'hand2_r_right_seg_4_cropped.jpeg', 'hand2_r_right_seg_1_cropped.jpeg', 'hand2_r_right_seg_3_cropped.jpeg', 'hand2_r_right_seg_2_cropped.jpeg', 'hand2_r_right_seg_5_cropped.jpeg', 'hand2_r_top_seg_3_cropped.jpeg', 'hand3_r_dif_seg_1_cropped.jpeg', 'hand3_r_dif_seg_2_cropped.jpeg', 'hand2_r_top_seg_5_cropped.jpeg', 'hand2_r_top_seg_1_cropped.jpeg', 'hand2_r_top_seg_4_cropped.jpeg', 'hand2_r_top_seg_2_cropped.jpeg', 'hand3_r_dif_seg_3_cropped.jpeg', 'hand3_r_dif_seg_5_cropped.jpeg', 'hand3_r_dif_seg_4_cropped.jpeg', 'hand4_r_bot_seg_1_cropped.jpeg', 'hand5_r_bot_seg_2_cropped.jpeg', 'hand4_r_bot_seg_5_cropped.jpeg', 'hand4_r_bot_seg_2_cropped.jpeg', 'hand4_r_bot_seg_3_cropped.jpeg', 'hand4_r_bot_seg_4_cropped.jpeg', 'hand5_r_bot_seg_1_cropped.jpeg', 'hand5_r_bot_seg_5_cropped.jpeg', 'hand5_r_bot_seg_4_cropped.jpeg', 'hand5_r_bot_seg_3_cropped.jpeg', 'hand5_r_dif_seg_1_cropped.jpeg', 'hand5_r_dif_seg_2_cropped.jpeg', 'hand5_r_dif_seg_5_cropped.jpeg', 'hand5_r_dif_seg_3_cropped.jpeg', 'hand5_r_dif_seg_4_cropped.jpeg']\n",
            "['hand1_y_bot_seg_1_cropped.jpeg', 'hand1_y_bot_seg_2_cropped.jpeg', 'hand1_y_bot_seg_4_cropped.jpeg', 'hand1_y_bot_seg_3_cropped.jpeg', 'hand1_y_bot_seg_5_cropped.jpeg', 'hand1_y_left_seg_1_cropped.jpeg', 'hand1_y_dif_seg_1_cropped.jpeg', 'hand1_y_dif_seg_4_cropped.jpeg', 'hand1_y_dif_seg_3_cropped.jpeg', 'hand1_y_dif_seg_2_cropped.jpeg', 'hand1_y_left_seg_3_cropped.jpeg', 'hand1_y_left_seg_4_cropped.jpeg', 'hand1_y_left_seg_2_cropped.jpeg', 'hand1_y_dif_seg_5_cropped.jpeg', 'hand1_y_right_seg_1_cropped.jpeg', 'hand1_y_right_seg_4_cropped.jpeg', 'hand1_y_right_seg_3_cropped.jpeg', 'hand1_y_right_seg_2_cropped.jpeg', 'hand1_y_left_seg_5_cropped.jpeg', 'hand1_y_top_seg_1_cropped.jpeg', 'hand1_y_top_seg_2_cropped.jpeg', 'hand1_y_right_seg_5_cropped.jpeg', 'hand1_y_top_seg_3_cropped.jpeg', 'hand1_y_top_seg_5_cropped.jpeg', 'hand1_y_top_seg_4_cropped.jpeg', 'hand2_y_bot_seg_1_cropped.jpeg', 'hand2_y_bot_seg_3_cropped.jpeg', 'hand2_y_bot_seg_2_cropped.jpeg', 'hand2_y_bot_seg_4_cropped.jpeg', 'hand2_y_dif_seg_4_cropped.jpeg', 'hand2_y_dif_seg_2_cropped.jpeg', 'hand2_y_dif_seg_1_cropped.jpeg', 'hand2_y_bot_seg_5_cropped.jpeg', 'hand2_y_dif_seg_3_cropped.jpeg', 'hand2_y_dif_seg_5_cropped.jpeg', 'hand2_y_left_seg_3_cropped.jpeg', 'hand2_y_left_seg_1_cropped.jpeg', 'hand2_y_left_seg_2_cropped.jpeg', 'hand2_y_left_seg_4_cropped.jpeg', 'hand2_y_right_seg_5_cropped.jpeg', 'hand2_y_right_seg_3_cropped.jpeg', 'hand2_y_right_seg_1_cropped.jpeg', 'hand2_y_right_seg_2_cropped.jpeg', 'hand2_y_left_seg_5_cropped.jpeg', 'hand2_y_top_seg_3_cropped.jpeg', 'hand2_y_top_seg_1_cropped.jpeg', 'hand2_y_top_seg_2_cropped.jpeg', 'hand2_y_right_seg_4_cropped.jpeg', 'hand2_y_top_seg_4_cropped.jpeg', 'hand3_y_dif_seg_3_cropped.jpeg', 'hand2_y_top_seg_5_cropped.jpeg', 'hand3_y_dif_seg_1_cropped.jpeg', 'hand3_y_dif_seg_2_cropped.jpeg', 'hand4_y_bot_seg_2_cropped.jpeg', 'hand3_y_dif_seg_4_cropped.jpeg', 'hand4_y_bot_seg_1_cropped.jpeg', 'hand3_y_dif_seg_5_cropped.jpeg', 'hand4_y_bot_seg_3_cropped.jpeg', 'hand4_y_bot_seg_4_cropped.jpeg', 'hand5_y_bot_seg_2_cropped.jpeg', 'hand5_y_bot_seg_1_cropped.jpeg', 'hand4_y_bot_seg_5_cropped.jpeg', 'hand5_y_bot_seg_3_cropped.jpeg', 'hand5_y_bot_seg_5_cropped.jpeg', 'hand5_y_bot_seg_4_cropped.jpeg', 'hand5_y_dif_seg_3_cropped.jpeg', 'hand5_y_dif_seg_2_cropped.jpeg', 'hand5_y_dif_seg_1_cropped.jpeg', 'hand5_y_dif_seg_4_cropped.jpeg', 'hand5_y_dif_seg_5_cropped.jpeg']\n",
            "['hand1_q_bot_seg_2_cropped.jpeg', 'hand1_q_bot_seg_1_cropped.jpeg', 'hand1_q_bot_seg_4_cropped.jpeg', 'hand1_q_bot_seg_5_cropped.jpeg', 'hand1_q_bot_seg_3_cropped.jpeg', 'hand1_q_dif_seg_1_cropped.jpeg', 'hand1_q_left_seg_2_cropped.jpeg', 'hand1_q_left_seg_3_cropped.jpeg', 'hand1_q_left_seg_5_cropped.jpeg', 'hand1_q_left_seg_4_cropped.jpeg', 'hand1_q_right_seg_1_cropped.jpeg', 'hand1_q_left_seg_1_cropped.jpeg', 'hand1_q_dif_seg_3_cropped.jpeg', 'hand1_q_dif_seg_5_cropped.jpeg', 'hand1_q_dif_seg_4_cropped.jpeg', 'hand1_q_dif_seg_2_cropped.jpeg', 'hand1_q_right_seg_3_cropped.jpeg', 'hand1_q_right_seg_2_cropped.jpeg', 'hand1_q_right_seg_4_cropped.jpeg', 'hand1_q_right_seg_5_cropped.jpeg', 'hand1_q_top_seg_4_cropped.jpeg', 'hand1_q_top_seg_1_cropped.jpeg', 'hand1_q_top_seg_2_cropped.jpeg', 'hand1_q_top_seg_3_cropped.jpeg', 'hand2_q_bot_seg_3_cropped.jpeg', 'hand2_q_bot_seg_1_cropped.jpeg', 'hand1_q_top_seg_5_cropped.jpeg', 'hand2_q_bot_seg_2_cropped.jpeg', 'hand2_q_bot_seg_4_cropped.jpeg', 'hand2_q_dif_seg_3_cropped.jpeg', 'hand2_q_dif_seg_1_cropped.jpeg', 'hand2_q_bot_seg_5_cropped.jpeg', 'hand2_q_dif_seg_2_cropped.jpeg', 'hand2_q_dif_seg_5_cropped.jpeg', 'hand2_q_left_seg_3_cropped.jpeg', 'hand2_q_left_seg_1_cropped.jpeg', 'hand2_q_dif_seg_4_cropped.jpeg', 'hand2_q_left_seg_2_cropped.jpeg', 'hand2_q_left_seg_4_cropped.jpeg', 'hand2_q_left_seg_5_cropped.jpeg', 'hand2_q_right_seg_1_cropped.jpeg', 'hand2_q_right_seg_2_cropped.jpeg', 'hand2_q_right_seg_3_cropped.jpeg', 'hand2_q_top_seg_1_cropped.jpeg', 'hand2_q_top_seg_2_cropped.jpeg', 'hand2_q_right_seg_5_cropped.jpeg', 'hand2_q_top_seg_4_cropped.jpeg', 'hand2_q_top_seg_3_cropped.jpeg', 'hand2_q_right_seg_4_cropped.jpeg', 'hand2_q_top_seg_5_cropped.jpeg', 'hand3_q_dif_seg_3_cropped.jpeg', 'hand3_q_dif_seg_2_cropped.jpeg', 'hand3_q_dif_seg_1_cropped.jpeg', 'hand4_q_bot_seg_1_cropped.jpeg', 'hand4_q_bot_seg_5_cropped.jpeg', 'hand3_q_dif_seg_4_cropped.jpeg', 'hand4_q_bot_seg_2_cropped.jpeg', 'hand3_q_dif_seg_5_cropped.jpeg', 'hand4_q_bot_seg_3_cropped.jpeg', 'hand5_q_bot_seg_3_cropped.jpeg', 'hand5_q_bot_seg_2_cropped.jpeg', 'hand5_q_bot_seg_1_cropped.jpeg', 'hand4_q_bot_seg_4_cropped.jpeg', 'hand5_q_bot_seg_4_cropped.jpeg', 'hand5_q_dif_seg_3_cropped.jpeg', 'hand5_q_dif_seg_2_cropped.jpeg', 'hand5_q_dif_seg_1_cropped.jpeg', 'hand5_q_bot_seg_5_cropped.jpeg', 'hand5_q_dif_seg_4_cropped.jpeg', 'hand5_q_dif_seg_5_cropped.jpeg']\n",
            "['hand1_z_bot_seg_1_cropped.jpeg', 'hand1_z_bot_seg_5_cropped.jpeg', 'hand1_z_bot_seg_4_cropped.jpeg', 'hand1_z_bot_seg_2_cropped.jpeg', 'hand1_z_bot_seg_3_cropped.jpeg', 'hand1_z_dif_seg_3_cropped.jpeg', 'hand1_z_dif_seg_5_cropped.jpeg', 'hand1_z_dif_seg_1_cropped.jpeg', 'hand1_z_dif_seg_2_cropped.jpeg', 'hand1_z_dif_seg_4_cropped.jpeg', 'hand1_z_left_seg_1_cropped.jpeg', 'hand1_z_left_seg_5_cropped.jpeg', 'hand1_z_left_seg_3_cropped.jpeg', 'hand1_z_left_seg_2_cropped.jpeg', 'hand1_z_left_seg_4_cropped.jpeg', 'hand1_z_right_seg_2_cropped.jpeg', 'hand1_z_right_seg_1_cropped.jpeg', 'hand1_z_right_seg_4_cropped.jpeg', 'hand1_z_right_seg_3_cropped.jpeg', 'hand1_z_right_seg_5_cropped.jpeg', 'hand1_z_top_seg_1_cropped.jpeg', 'hand1_z_top_seg_5_cropped.jpeg', 'hand1_z_top_seg_4_cropped.jpeg', 'hand1_z_top_seg_3_cropped.jpeg', 'hand1_z_top_seg_2_cropped.jpeg', 'hand2_z_bot_seg_4_cropped.jpeg', 'hand2_z_bot_seg_2_cropped.jpeg', 'hand2_z_bot_seg_5_cropped.jpeg', 'hand2_z_bot_seg_3_cropped.jpeg', 'hand2_z_bot_seg_1_cropped.jpeg', 'hand2_z_dif_seg_1_cropped.jpeg', 'hand2_z_dif_seg_5_cropped.jpeg', 'hand2_z_dif_seg_4_cropped.jpeg', 'hand2_z_dif_seg_3_cropped.jpeg', 'hand2_z_dif_seg_2_cropped.jpeg', 'hand2_z_right_seg_1_cropped.jpeg', 'hand2_z_left_seg_4_cropped.jpeg', 'hand2_z_left_seg_1_cropped.jpeg', 'hand2_z_left_seg_5_cropped.jpeg', 'hand2_z_left_seg_3_cropped.jpeg', 'hand2_z_left_seg_2_cropped.jpeg', 'hand2_z_right_seg_3_cropped.jpeg', 'hand2_z_right_seg_4_cropped.jpeg', 'hand2_z_right_seg_2_cropped.jpeg', 'hand2_z_right_seg_5_cropped.jpeg', 'hand3_z_dif_seg_1_cropped.jpeg', 'hand2_z_top_seg_1_cropped.jpeg', 'hand2_z_top_seg_4_cropped.jpeg', 'hand2_z_top_seg_3_cropped.jpeg', 'hand2_z_top_seg_5_cropped.jpeg', 'hand2_z_top_seg_2_cropped.jpeg', 'hand3_z_dif_seg_4_cropped.jpeg', 'hand3_z_dif_seg_2_cropped.jpeg', 'hand3_z_dif_seg_3_cropped.jpeg', 'hand3_z_dif_seg_5_cropped.jpeg', 'hand5_z_bot_seg_1_cropped.jpeg', 'hand4_z_bot_seg_4_cropped.jpeg', 'hand4_z_bot_seg_5_cropped.jpeg', 'hand4_z_bot_seg_1_cropped.jpeg', 'hand4_z_bot_seg_3_cropped.jpeg', 'hand4_z_bot_seg_2_cropped.jpeg', 'hand5_z_bot_seg_3_cropped.jpeg', 'hand5_z_bot_seg_2_cropped.jpeg', 'hand5_z_bot_seg_4_cropped.jpeg', 'hand5_z_bot_seg_5_cropped.jpeg', 'hand5_z_dif_seg_2_cropped.jpeg', 'hand5_z_dif_seg_3_cropped.jpeg', 'hand5_z_dif_seg_5_cropped.jpeg', 'hand5_z_dif_seg_1_cropped.jpeg', 'hand5_z_dif_seg_4_cropped.jpeg']\n",
            "['hand1_j_bot_seg_2_cropped.jpeg', 'hand1_j_bot_seg_4_cropped.jpeg', 'hand1_j_bot_seg_1_cropped.jpeg', 'hand1_j_bot_seg_3_cropped.jpeg', 'hand1_j_dif_seg_2_cropped.jpeg', 'hand1_j_dif_seg_1_cropped.jpeg', 'hand1_j_bot_seg_5_cropped.jpeg', 'hand1_j_dif_seg_3_cropped.jpeg', 'hand1_j_dif_seg_4_cropped.jpeg', 'hand1_j_dif_seg_5_cropped.jpeg', 'hand1_j_left_seg_2_cropped.jpeg', 'hand1_j_left_seg_3_cropped.jpeg', 'hand1_j_left_seg_1_cropped.jpeg', 'hand1_j_left_seg_4_cropped.jpeg', 'hand1_j_right_seg_2_cropped.jpeg', 'hand1_j_right_seg_1_cropped.jpeg', 'hand1_j_right_seg_3_cropped.jpeg', 'hand1_j_left_seg_5_cropped.jpeg', 'hand1_j_right_seg_5_cropped.jpeg', 'hand1_j_right_seg_4_cropped.jpeg', 'hand1_j_top_seg_2_cropped.jpeg', 'hand1_j_top_seg_1_cropped.jpeg', 'hand1_j_top_seg_3_cropped.jpeg', 'hand2_j_bot_seg_4_cropped.jpeg', 'hand2_j_dif_seg_3_cropped.jpeg', 'hand1_j_top_seg_4_cropped.jpeg', 'hand2_j_bot_seg_2_cropped.jpeg', 'hand2_j_bot_seg_3_cropped.jpeg', 'hand2_j_bot_seg_1_cropped.jpeg', 'hand1_j_top_seg_5_cropped.jpeg', 'hand2_j_dif_seg_1_cropped.jpeg', 'hand2_j_dif_seg_2_cropped.jpeg', 'hand2_j_bot_seg_5_cropped.jpeg', 'hand2_j_dif_seg_4_cropped.jpeg', 'hand2_j_right_seg_3_cropped.jpeg', 'hand2_j_dif_seg_5_cropped.jpeg', 'hand2_j_left_seg_1_cropped.jpeg', 'hand2_j_left_seg_2_cropped.jpeg', 'hand2_j_right_seg_2_cropped.jpeg', 'hand2_j_left_seg_5_cropped.jpeg', 'hand2_j_right_seg_1_cropped.jpeg', 'hand2_j_left_seg_4_cropped.jpeg', 'hand2_j_left_seg_3_cropped.jpeg', 'hand2_j_right_seg_4_cropped.jpeg', 'hand2_j_right_seg_5_cropped.jpeg', 'hand2_j_top_seg_2_cropped.jpeg', 'hand2_j_top_seg_1_cropped.jpeg', 'hand2_j_top_seg_3_cropped.jpeg', 'hand3_j_dif_seg_2_cropped.jpeg', 'hand2_j_top_seg_4_cropped.jpeg', 'hand2_j_top_seg_5_cropped.jpeg', 'hand3_j_dif_seg_3_cropped.jpeg', 'hand3_j_dif_seg_1_cropped.jpeg', 'hand3_j_dif_seg_4_cropped.jpeg', 'hand3_j_dif_seg_5_cropped.jpeg', 'hand4_j_bot_seg_2_cropped.jpeg', 'hand4_j_bot_seg_1_cropped.jpeg', 'hand4_j_bot_seg_3_cropped.jpeg', 'hand4_j_bot_seg_4_cropped.jpeg', 'hand4_j_bot_seg_5_cropped.jpeg', 'hand5_j_bot_seg_4_cropped.jpeg', 'hand5_j_bot_seg_2_cropped.jpeg', 'hand5_j_bot_seg_1_cropped.jpeg', 'hand5_j_bot_seg_3_cropped.jpeg', 'hand5_j_dif_seg_2_cropped.jpeg', 'hand5_j_bot_seg_5_cropped.jpeg', 'hand5_j_dif_seg_1_cropped.jpeg', 'hand5_j_dif_seg_3_cropped.jpeg', 'hand5_j_dif_seg_5_cropped.jpeg', 'hand5_j_dif_seg_4_cropped.jpeg']\n",
            "['hand1_h_bot_seg_1_cropped.jpeg', 'hand1_h_bot_seg_5_cropped.jpeg', 'hand1_h_dif_seg_1_cropped.jpeg', 'hand1_h_bot_seg_4_cropped.jpeg', 'hand1_h_bot_seg_2_cropped.jpeg', 'hand1_h_bot_seg_3_cropped.jpeg', 'hand1_h_dif_seg_2_cropped.jpeg', 'hand1_h_dif_seg_4_cropped.jpeg', 'hand1_h_dif_seg_5_cropped.jpeg', 'hand1_h_dif_seg_3_cropped.jpeg', 'hand1_h_left_seg_1_cropped.jpeg', 'hand1_h_left_seg_3_cropped.jpeg', 'hand1_h_right_seg_1_cropped.jpeg', 'hand1_h_left_seg_5_cropped.jpeg', 'hand1_h_left_seg_2_cropped.jpeg', 'hand1_h_left_seg_4_cropped.jpeg', 'hand1_h_right_seg_4_cropped.jpeg', 'hand1_h_right_seg_5_cropped.jpeg', 'hand1_h_right_seg_3_cropped.jpeg', 'hand1_h_right_seg_2_cropped.jpeg', 'hand1_h_top_seg_1_cropped.jpeg', 'hand1_h_top_seg_2_cropped.jpeg', 'hand2_h_bot_seg_1_cropped.jpeg', 'hand1_h_top_seg_3_cropped.jpeg', 'hand1_h_top_seg_5_cropped.jpeg', 'hand1_h_top_seg_4_cropped.jpeg', 'hand2_h_bot_seg_3_cropped.jpeg', 'hand2_h_bot_seg_2_cropped.jpeg', 'hand2_h_bot_seg_5_cropped.jpeg', 'hand2_h_bot_seg_4_cropped.jpeg', 'hand2_h_dif_seg_1_cropped.jpeg', 'hand2_h_dif_seg_5_cropped.jpeg', 'hand2_h_left_seg_1_cropped.jpeg', 'hand2_h_dif_seg_3_cropped.jpeg', 'hand2_h_dif_seg_2_cropped.jpeg', 'hand2_h_dif_seg_4_cropped.jpeg', 'hand2_h_left_seg_3_cropped.jpeg', 'hand2_h_left_seg_4_cropped.jpeg', 'hand2_h_left_seg_2_cropped.jpeg', 'hand2_h_left_seg_5_cropped.jpeg', 'hand2_h_right_seg_1_cropped.jpeg', 'hand2_h_right_seg_2_cropped.jpeg', 'hand2_h_top_seg_1_cropped.jpeg', 'hand2_h_top_seg_3_cropped.jpeg', 'hand2_h_top_seg_5_cropped.jpeg', 'hand2_h_top_seg_2_cropped.jpeg', 'hand2_h_top_seg_4_cropped.jpeg', 'hand2_h_right_seg_4_cropped.jpeg', 'hand3_h_dif_seg_1_cropped.jpeg', 'hand2_h_right_seg_3_cropped.jpeg', 'hand2_h_right_seg_5_cropped.jpeg', 'hand3_h_dif_seg_2_cropped.jpeg', 'hand4_h_bot_seg_1_cropped.jpeg', 'hand3_h_dif_seg_5_cropped.jpeg', 'hand4_h_bot_seg_2_cropped.jpeg', 'hand3_h_dif_seg_3_cropped.jpeg', 'hand3_h_dif_seg_4_cropped.jpeg', 'hand4_h_bot_seg_3_cropped.jpeg', 'hand5_h_bot_seg_1_cropped.jpeg', 'hand4_h_bot_seg_5_cropped.jpeg', 'hand4_h_bot_seg_4_cropped.jpeg', 'hand5_h_bot_seg_2_cropped.jpeg', 'hand5_h_bot_seg_4_cropped.jpeg', 'hand5_h_bot_seg_3_cropped.jpeg', 'hand5_h_bot_seg_5_cropped.jpeg', 'hand5_h_dif_seg_1_cropped.jpeg', 'hand5_h_dif_seg_2_cropped.jpeg', 'hand5_h_dif_seg_3_cropped.jpeg', 'hand5_h_dif_seg_5_cropped.jpeg', 'hand5_h_dif_seg_4_cropped.jpeg']\n",
            "['hand1_k_bot_seg_3_cropped.jpeg', 'hand1_k_bot_seg_2_cropped.jpeg', 'hand1_k_bot_seg_5_cropped.jpeg', 'hand1_k_bot_seg_1_cropped.jpeg', 'hand1_k_bot_seg_4_cropped.jpeg', 'hand1_k_dif_seg_4_cropped.jpeg', 'hand1_k_dif_seg_5_cropped.jpeg', 'hand1_k_dif_seg_2_cropped.jpeg', 'hand1_k_dif_seg_1_cropped.jpeg', 'hand1_k_dif_seg_3_cropped.jpeg', 'hand1_k_left_seg_3_cropped.jpeg', 'hand1_k_left_seg_5_cropped.jpeg', 'hand1_k_left_seg_4_cropped.jpeg', 'hand1_k_left_seg_1_cropped.jpeg', 'hand1_k_left_seg_2_cropped.jpeg', 'hand1_k_right_seg_1_cropped.jpeg', 'hand1_k_right_seg_5_cropped.jpeg', 'hand1_k_right_seg_3_cropped.jpeg', 'hand1_k_right_seg_4_cropped.jpeg', 'hand1_k_right_seg_2_cropped.jpeg', 'hand2_k_bot_seg_4_cropped.jpeg', 'hand1_k_top_seg_5_cropped.jpeg', 'hand1_k_top_seg_1_cropped.jpeg', 'hand1_k_top_seg_2_cropped.jpeg', 'hand2_k_bot_seg_2_cropped.jpeg', 'hand2_k_bot_seg_1_cropped.jpeg', 'hand1_k_top_seg_4_cropped.jpeg', 'hand1_k_top_seg_3_cropped.jpeg', 'hand2_k_bot_seg_3_cropped.jpeg', 'hand2_k_dif_seg_4_cropped.jpeg', 'hand2_k_left_seg_4_cropped.jpeg', 'hand2_k_dif_seg_5_cropped.jpeg', 'hand2_k_dif_seg_3_cropped.jpeg', 'hand2_k_dif_seg_2_cropped.jpeg', 'hand2_k_bot_seg_5_cropped.jpeg', 'hand2_k_dif_seg_1_cropped.jpeg', 'hand2_k_left_seg_3_cropped.jpeg', 'hand2_k_left_seg_1_cropped.jpeg', 'hand2_k_left_seg_2_cropped.jpeg', 'hand2_k_right_seg_5_cropped.jpeg', 'hand2_k_top_seg_4_cropped.jpeg', 'hand2_k_right_seg_4_cropped.jpeg', 'hand2_k_right_seg_1_cropped.jpeg', 'hand2_k_right_seg_2_cropped.jpeg', 'hand2_k_left_seg_5_cropped.jpeg', 'hand2_k_right_seg_3_cropped.jpeg', 'hand2_k_top_seg_3_cropped.jpeg', 'hand2_k_top_seg_1_cropped.jpeg', 'hand2_k_top_seg_2_cropped.jpeg', 'hand3_k_dif_seg_5_cropped.jpeg', 'hand4_k_bot_seg_2_cropped.jpeg', 'hand3_k_dif_seg_4_cropped.jpeg', 'hand3_k_dif_seg_3_cropped.jpeg', 'hand3_k_dif_seg_2_cropped.jpeg', 'hand3_k_dif_seg_1_cropped.jpeg', 'hand4_k_bot_seg_3_cropped.jpeg', 'hand4_k_bot_seg_1_cropped.jpeg', 'hand4_k_bot_seg_4_cropped.jpeg', 'hand2_k_top_seg_5_cropped.jpeg', 'hand5_k_bot_seg_2_cropped.jpeg', 'hand5_k_dif_seg_4_cropped.jpeg', 'hand5_k_bot_seg_1_cropped.jpeg', 'hand4_k_bot_seg_5_cropped.jpeg', 'hand5_k_bot_seg_3_cropped.jpeg', 'hand5_k_dif_seg_3_cropped.jpeg', 'hand5_k_dif_seg_2_cropped.jpeg', 'hand5_k_bot_seg_5_cropped.jpeg', 'hand5_k_dif_seg_1_cropped.jpeg', 'hand5_k_bot_seg_4_cropped.jpeg', 'hand5_k_dif_seg_5_cropped.jpeg']\n",
            "['hand1_i_bot_seg_4_cropped.jpeg', 'hand1_i_bot_seg_2_cropped.jpeg', 'hand1_i_bot_seg_3_cropped.jpeg', 'hand1_i_bot_seg_1_cropped.jpeg', 'hand1_i_dif_seg_1_cropped.jpeg', 'hand1_i_bot_seg_5_cropped.jpeg', 'hand1_i_dif_seg_2_cropped.jpeg', 'hand1_i_dif_seg_3_cropped.jpeg', 'hand1_i_left_seg_2_cropped.jpeg', 'hand1_i_dif_seg_5_cropped.jpeg', 'hand1_i_left_seg_1_cropped.jpeg', 'hand1_i_dif_seg_4_cropped.jpeg', 'hand1_i_left_seg_5_cropped.jpeg', 'hand1_i_right_seg_1_cropped.jpeg', 'hand1_i_right_seg_2_cropped.jpeg', 'hand1_i_left_seg_3_cropped.jpeg', 'hand1_i_left_seg_4_cropped.jpeg', 'hand1_i_right_seg_3_cropped.jpeg', 'hand1_i_top_seg_1_cropped.jpeg', 'hand1_i_right_seg_5_cropped.jpeg', 'hand1_i_right_seg_4_cropped.jpeg', 'hand1_i_top_seg_2_cropped.jpeg', 'hand2_i_bot_seg_1_cropped.jpeg', 'hand1_i_top_seg_4_cropped.jpeg', 'hand1_i_top_seg_5_cropped.jpeg', 'hand1_i_top_seg_3_cropped.jpeg', 'hand2_i_bot_seg_2_cropped.jpeg', 'hand2_i_bot_seg_3_cropped.jpeg', 'hand2_i_bot_seg_4_cropped.jpeg', 'hand2_i_bot_seg_5_cropped.jpeg', 'hand2_i_dif_seg_1_cropped.jpeg', 'hand2_i_dif_seg_2_cropped.jpeg', 'hand2_i_dif_seg_4_cropped.jpeg', 'hand2_i_left_seg_1_cropped.jpeg', 'hand2_i_dif_seg_3_cropped.jpeg', 'hand2_i_dif_seg_5_cropped.jpeg', 'hand2_i_left_seg_3_cropped.jpeg', 'hand2_i_left_seg_2_cropped.jpeg', 'hand2_i_right_seg_2_cropped.jpeg', 'hand2_i_right_seg_1_cropped.jpeg', 'hand2_i_right_seg_3_cropped.jpeg', 'hand2_i_right_seg_4_cropped.jpeg', 'hand2_i_right_seg_5_cropped.jpeg', 'hand2_i_top_seg_1_cropped.jpeg', 'hand2_i_left_seg_5_cropped.jpeg', 'hand2_i_left_seg_4_cropped.jpeg', 'hand2_i_top_seg_2_cropped.jpeg', 'hand2_i_top_seg_3_cropped.jpeg', 'hand2_i_top_seg_5_cropped.jpeg', 'hand2_i_top_seg_4_cropped.jpeg', 'hand3_i_dif_seg_1_cropped.jpeg', 'hand3_i_dif_seg_2_cropped.jpeg', 'hand3_i_dif_seg_4_cropped.jpeg', 'hand3_i_dif_seg_3_cropped.jpeg', 'hand4_i_bot_seg_1_cropped.jpeg', 'hand4_i_bot_seg_3_cropped.jpeg', 'hand3_i_dif_seg_5_cropped.jpeg', 'hand4_i_bot_seg_2_cropped.jpeg', 'hand4_i_bot_seg_5_cropped.jpeg', 'hand5_i_bot_seg_1_cropped.jpeg', 'hand4_i_bot_seg_4_cropped.jpeg', 'hand5_i_bot_seg_2_cropped.jpeg', 'hand5_i_dif_seg_3_cropped.jpeg', 'hand5_i_bot_seg_5_cropped.jpeg', 'hand5_i_bot_seg_3_cropped.jpeg', 'hand5_i_bot_seg_4_cropped.jpeg', 'hand5_i_dif_seg_1_cropped.jpeg', 'hand5_i_dif_seg_4_cropped.jpeg', 'hand5_i_dif_seg_5_cropped.jpeg', 'hand5_i_dif_seg_2_cropped.jpeg']\n",
            "['hand1_n_bot_seg_5_cropped.jpeg', 'hand1_n_bot_seg_3_cropped.jpeg', 'hand1_n_bot_seg_2_cropped.jpeg', 'hand1_n_bot_seg_4_cropped.jpeg', 'hand1_n_bot_seg_1_cropped.jpeg', 'hand1_n_dif_seg_1_cropped.jpeg', 'hand1_n_dif_seg_5_cropped.jpeg', 'hand1_n_dif_seg_4_cropped.jpeg', 'hand1_n_dif_seg_3_cropped.jpeg', 'hand1_n_dif_seg_2_cropped.jpeg', 'hand1_n_left_seg_3_cropped.jpeg', 'hand1_n_left_seg_4_cropped.jpeg', 'hand1_n_left_seg_1_cropped.jpeg', 'hand1_n_left_seg_2_cropped.jpeg', 'hand1_n_left_seg_5_cropped.jpeg', 'hand1_n_right_seg_1_cropped.jpeg', 'hand1_n_right_seg_3_cropped.jpeg', 'hand1_n_right_seg_2_cropped.jpeg', 'hand1_n_right_seg_4_cropped.jpeg', 'hand1_n_top_seg_5_cropped.jpeg', 'hand1_n_top_seg_2_cropped.jpeg', 'hand1_n_top_seg_3_cropped.jpeg', 'hand1_n_top_seg_4_cropped.jpeg', 'hand1_n_top_seg_1_cropped.jpeg', 'hand1_n_right_seg_5_cropped.jpeg', 'hand2_n_bot_seg_4_cropped.jpeg', 'hand2_n_bot_seg_1_cropped.jpeg', 'hand2_n_bot_seg_3_cropped.jpeg', 'hand2_n_bot_seg_2_cropped.jpeg', 'hand2_n_dif_seg_1_cropped.jpeg', 'hand2_n_dif_seg_5_cropped.jpeg', 'hand2_n_dif_seg_2_cropped.jpeg', 'hand2_n_dif_seg_3_cropped.jpeg', 'hand2_n_bot_seg_5_cropped.jpeg', 'hand2_n_dif_seg_4_cropped.jpeg', 'hand2_n_left_seg_4_cropped.jpeg', 'hand2_n_left_seg_1_cropped.jpeg', 'hand2_n_left_seg_2_cropped.jpeg', 'hand2_n_left_seg_3_cropped.jpeg', 'hand2_n_right_seg_5_cropped (1).jpeg', 'hand2_n_top_seg_1_cropped (1).jpeg', 'hand2_n_right_seg_4_cropped (1).jpeg', 'hand2_n_right_seg_1_cropped (1).jpeg', 'hand2_n_right_seg_2_cropped (1).jpeg', 'hand2_n_right_seg_3_cropped (1).jpeg', 'hand2_n_top_seg_4_cropped (1).jpeg', 'hand2_n_top_seg_2_cropped (1).jpeg', 'hand2_n_top_seg_3_cropped (1).jpeg', 'hand2_n_left_seg_5_cropped (1).jpeg', 'hand3_n_dif_seg_3_cropped.jpeg', 'hand3_n_dif_seg_1_cropped.jpeg', 'hand3_n_dif_seg_2_cropped.jpeg', 'hand2_n_top_seg_5_cropped.jpeg', 'hand4_n_bot_seg_3_cropped.jpeg', 'hand3_n_dif_seg_5_cropped.jpeg', 'hand4_n_bot_seg_4_cropped.jpeg', 'hand4_n_bot_seg_2_cropped.jpeg', 'hand4_n_bot_seg_1_cropped.jpeg', 'hand3_n_dif_seg_4_cropped.jpeg', 'hand5_n_bot_seg_2_cropped.jpeg', 'hand5_n_bot_seg_1_cropped.jpeg', 'hand5_n_bot_seg_3_cropped.jpeg', 'hand4_n_bot_seg_5_cropped.jpeg', 'hand5_n_bot_seg_5_cropped.jpeg', 'hand5_n_dif_seg_2_cropped.jpeg', 'hand5_n_bot_seg_4_cropped.jpeg', 'hand5_n_dif_seg_3_cropped.jpeg', 'hand5_n_dif_seg_1_cropped.jpeg', 'hand5_n_dif_seg_4_cropped.jpeg', 'hand5_n_dif_seg_5_cropped.jpeg', 'hand2_n_top_seg_1_cropped.jpeg', 'hand2_n_right_seg_5_cropped.jpeg', 'hand2_n_right_seg_2_cropped.jpeg', 'hand2_n_right_seg_1_cropped.jpeg', 'hand2_n_top_seg_4_cropped.jpeg', 'hand2_n_right_seg_4_cropped.jpeg', 'hand2_n_top_seg_2_cropped.jpeg', 'hand2_n_right_seg_3_cropped.jpeg', 'hand2_n_top_seg_3_cropped.jpeg', 'hand2_n_left_seg_5_cropped.jpeg']\n",
            "['hand1_l_bot_seg_4_cropped.jpeg', 'hand1_l_dif_seg_2_cropped.jpeg', 'hand1_l_bot_seg_5_cropped.jpeg', 'hand1_l_dif_seg_1_cropped.jpeg', 'hand1_l_dif_seg_5_cropped.jpeg', 'hand1_l_left_seg_1_cropped.jpeg', 'hand1_l_dif_seg_3_cropped.jpeg', 'hand1_l_dif_seg_4_cropped.jpeg', 'hand1_l_bot_seg_1_cropped.jpeg', 'hand1_l_bot_seg_3_cropped.jpeg', 'hand1_l_bot_seg_2_cropped.jpeg', 'hand1_l_left_seg_2_cropped.jpeg', 'hand1_l_right_seg_2_cropped.jpeg', 'hand1_l_left_seg_5_cropped.jpeg', 'hand1_l_left_seg_4_cropped.jpeg', 'hand1_l_left_seg_3_cropped.jpeg', 'hand1_l_right_seg_5_cropped.jpeg', 'hand1_l_right_seg_3_cropped.jpeg', 'hand1_l_right_seg_1_cropped.jpeg', 'hand1_l_right_seg_4_cropped.jpeg', 'hand1_l_top_seg_2_cropped.jpeg', 'hand1_l_top_seg_5_cropped.jpeg', 'hand1_l_top_seg_3_cropped.jpeg', 'hand1_l_top_seg_4_cropped.jpeg', 'hand1_l_top_seg_1_cropped.jpeg', 'hand2_l_bot_seg_1_cropped.jpeg', 'hand2_l_bot_seg_5_cropped.jpeg', 'hand2_l_dif_seg_4_cropped.jpeg', 'hand2_l_dif_seg_5_cropped.jpeg', 'hand2_l_dif_seg_3_cropped.jpeg', 'hand2_l_dif_seg_1_cropped.jpeg', 'hand2_l_dif_seg_2_cropped.jpeg', 'hand2_l_bot_seg_4_cropped.jpeg', 'hand2_l_bot_seg_3_cropped.jpeg', 'hand2_l_bot_seg_2_cropped.jpeg', 'hand2_l_left_seg_1_cropped.jpeg', 'hand2_l_left_seg_3_cropped.jpeg', 'hand2_l_left_seg_2_cropped.jpeg', 'hand2_l_left_seg_5_cropped.jpeg', 'hand2_l_right_seg_1_cropped.jpeg', 'hand2_l_left_seg_4_cropped.jpeg', 'hand2_l_right_seg_5_cropped.jpeg', 'hand2_l_right_seg_3_cropped.jpeg', 'hand2_l_right_seg_4_cropped.jpeg', 'hand2_l_right_seg_2_cropped.jpeg', 'hand3_l_dif_seg_1_cropped.jpeg', 'hand2_l_top_seg_4_cropped.jpeg', 'hand2_l_top_seg_5_cropped.jpeg', 'hand2_l_top_seg_1_cropped.jpeg', 'hand2_l_top_seg_2_cropped.jpeg', 'hand2_l_top_seg_3_cropped.jpeg', 'hand3_l_dif_seg_2_cropped.jpeg', 'hand3_l_dif_seg_3_cropped.jpeg', 'hand3_l_dif_seg_4_cropped.jpeg', 'hand3_l_dif_seg_5_cropped.jpeg', 'hand5_l_bot_seg_1_cropped.jpeg', 'hand4_l_bot_seg_1_cropped.jpeg', 'hand4_l_bot_seg_2_cropped.jpeg', 'hand4_l_bot_seg_3_cropped.jpeg', 'hand4_l_bot_seg_4_cropped.jpeg', 'hand5_l_bot_seg_2_cropped.jpeg', 'hand5_l_bot_seg_5_cropped.jpeg', 'hand5_l_bot_seg_3_cropped.jpeg', 'hand5_l_bot_seg_4_cropped.jpeg', 'hand4_l_bot_seg_5_cropped.jpeg', 'hand5_l_dif_seg_4_cropped.jpeg', 'hand5_l_dif_seg_5_cropped.jpeg', 'hand5_l_dif_seg_3_cropped.jpeg', 'hand5_l_dif_seg_2_cropped.jpeg', 'hand5_l_dif_seg_1_cropped.jpeg']\n",
            "['hand1_p_bot_seg_2_cropped.jpeg', 'hand1_p_bot_seg_1_cropped.jpeg', 'hand1_p_bot_seg_3_cropped.jpeg', 'hand1_p_dif_seg_2_cropped.jpeg', 'hand1_p_bot_seg_4_cropped.jpeg', 'hand1_p_dif_seg_1_cropped.jpeg', 'hand1_p_bot_seg_5_cropped.jpeg', 'hand1_p_dif_seg_3_cropped.jpeg', 'hand1_p_left_seg_2_cropped.jpeg', 'hand1_p_dif_seg_4_cropped.jpeg', 'hand1_p_left_seg_1_cropped.jpeg', 'hand1_p_dif_seg_5_cropped.jpeg', 'hand1_p_left_seg_3_cropped.jpeg', 'hand1_p_right_seg_2_cropped.jpeg', 'hand1_p_left_seg_5_cropped.jpeg', 'hand1_p_right_seg_1_cropped.jpeg', 'hand1_p_left_seg_4_cropped.jpeg', 'hand1_p_top_seg_3_cropped.jpeg', 'hand2_p_bot_seg_2_cropped.jpeg', 'hand1_p_top_seg_5_cropped.jpeg', 'hand1_p_top_seg_4_cropped.jpeg', 'hand2_p_bot_seg_1_cropped.jpeg', 'hand2_p_bot_seg_3_cropped.jpeg', 'hand1_p_right_seg_4_cropped.jpeg', 'hand2_p_bot_seg_4_cropped.jpeg', 'hand2_p_bot_seg_5_cropped.jpeg', 'hand2_p_dif_seg_1_cropped.jpeg', 'hand1_p_top_seg_1_cropped.jpeg', 'hand1_p_right_seg_3_cropped.jpeg', 'hand1_p_right_seg_5_cropped.jpeg', 'hand1_p_top_seg_2_cropped.jpeg', 'hand2_p_dif_seg_2_cropped.jpeg', 'hand2_p_left_seg_1_cropped.jpeg', 'hand2_p_dif_seg_3_cropped.jpeg', 'hand2_p_dif_seg_5_cropped.jpeg', 'hand2_p_dif_seg_4_cropped.jpeg', 'hand2_p_left_seg_4_cropped.jpeg', 'hand2_p_left_seg_2_cropped.jpeg', 'hand2_p_right_seg_1_cropped.jpeg', 'hand2_p_left_seg_3_cropped.jpeg', 'hand2_p_left_seg_5_cropped.jpeg', 'hand2_p_right_seg_3_cropped.jpeg', 'hand2_p_top_seg_1_cropped.jpeg', 'hand2_p_right_seg_5_cropped.jpeg', 'hand2_p_right_seg_2_cropped.jpeg', 'hand2_p_right_seg_4_cropped.jpeg', 'hand2_p_top_seg_4_cropped.jpeg', 'hand2_p_top_seg_2_cropped.jpeg', 'hand2_p_top_seg_5_cropped.jpeg', 'hand2_p_top_seg_3_cropped.jpeg', 'hand3_p_dif_seg_1_cropped.jpeg', 'hand3_p_dif_seg_2_cropped.jpeg', 'hand3_p_dif_seg_5_cropped.jpeg', 'hand3_p_dif_seg_4_cropped.jpeg', 'hand3_p_dif_seg_3_cropped.jpeg', 'hand4_p_bot_seg_1_cropped.jpeg', 'hand5_p_bot_seg_1_cropped.jpeg', 'hand4_p_bot_seg_5_cropped.jpeg', 'hand4_p_bot_seg_3_cropped.jpeg', 'hand4_p_bot_seg_2_cropped.jpeg', 'hand4_p_bot_seg_4_cropped.jpeg', 'hand5_p_bot_seg_2_cropped.jpeg', 'hand5_p_bot_seg_5_cropped.jpeg', 'hand5_p_bot_seg_4_cropped.jpeg', 'hand5_p_bot_seg_3_cropped.jpeg', 'hand5_p_dif_seg_1_cropped.jpeg', 'hand5_p_dif_seg_5_cropped.jpeg', 'hand5_p_dif_seg_4_cropped.jpeg', 'hand5_p_dif_seg_3_cropped.jpeg', 'hand5_p_dif_seg_2_cropped.jpeg']\n",
            "['hand1_o_bot_seg_2_cropped.jpeg', 'hand1_o_bot_seg_3_cropped.jpeg', 'hand1_o_bot_seg_5_cropped.jpeg', 'hand1_o_bot_seg_4_cropped.jpeg', 'hand1_o_bot_seg_1_cropped.jpeg', 'hand1_o_dif_seg_1_cropped.jpeg', 'hand1_o_left_seg_2_cropped.jpeg', 'hand1_o_dif_seg_4_cropped.jpeg', 'hand1_o_dif_seg_3_cropped.jpeg', 'hand1_o_dif_seg_5_cropped.jpeg', 'hand1_o_left_seg_1_cropped.jpeg', 'hand1_o_dif_seg_2_cropped.jpeg', 'hand1_o_left_seg_5_cropped.jpeg', 'hand1_o_left_seg_3_cropped.jpeg', 'hand1_o_left_seg_4_cropped.jpeg', 'hand1_o_right_seg_1_cropped.jpeg', 'hand1_o_top_seg_2_cropped.jpeg', 'hand1_o_right_seg_2_cropped.jpeg', 'hand1_o_right_seg_5_cropped.jpeg', 'hand1_o_right_seg_4_cropped.jpeg', 'hand1_o_right_seg_3_cropped.jpeg', 'hand1_o_top_seg_4_cropped.jpeg', 'hand1_o_top_seg_5_cropped.jpeg', 'hand1_o_top_seg_3_cropped.jpeg', 'hand1_o_top_seg_1_cropped.jpeg', 'hand2_o_bot_seg_1_cropped.jpeg', 'hand2_o_bot_seg_5_cropped.jpeg', 'hand2_o_bot_seg_3_cropped.jpeg', 'hand2_o_bot_seg_4_cropped.jpeg', 'hand2_o_bot_seg_2_cropped.jpeg', 'hand2_o_dif_seg_4_cropped.jpeg', 'hand2_o_dif_seg_5_cropped.jpeg', 'hand2_o_dif_seg_3_cropped.jpeg', 'hand2_o_dif_seg_1_cropped.jpeg', 'hand2_o_dif_seg_2_cropped.jpeg', 'hand2_o_left_seg_1_cropped.jpeg', 'hand2_o_left_seg_5_cropped.jpeg', 'hand2_o_left_seg_2_cropped.jpeg', 'hand2_o_left_seg_3_cropped.jpeg', 'hand2_o_left_seg_4_cropped.jpeg', 'hand2_o_right_seg_4_cropped.jpeg', 'hand2_o_right_seg_2_cropped.jpeg', 'hand2_o_right_seg_3_cropped.jpeg', 'hand2_o_right_seg_1_cropped.jpeg', 'hand2_o_top_seg_3_cropped.jpeg', 'hand2_o_right_seg_5_cropped.jpeg', 'hand2_o_top_seg_2_cropped.jpeg', 'hand2_o_top_seg_4_cropped.jpeg', 'hand2_o_top_seg_1_cropped.jpeg', 'hand3_o_dif_seg_5_cropped.jpeg', 'hand2_o_top_seg_5_cropped.jpeg', 'hand3_o_dif_seg_2_cropped.jpeg', 'hand3_o_dif_seg_1_cropped.jpeg', 'hand3_o_dif_seg_4_cropped.jpeg', 'hand3_o_dif_seg_3_cropped.jpeg', 'hand4_o_bot_seg_1_cropped.jpeg', 'hand4_o_bot_seg_2_cropped.jpeg', 'hand4_o_bot_seg_4_cropped.jpeg', 'hand4_o_bot_seg_3_cropped.jpeg', 'hand4_o_bot_seg_5_cropped.jpeg', 'hand5_o_bot_seg_5_cropped.jpeg', 'hand5_o_bot_seg_1_cropped.jpeg', 'hand5_o_bot_seg_4_cropped.jpeg', 'hand5_o_bot_seg_3_cropped.jpeg', 'hand5_o_dif_seg_2_cropped.jpeg', 'hand5_o_bot_seg_2_cropped.jpeg', 'hand5_o_dif_seg_4_cropped.jpeg', 'hand5_o_dif_seg_1_cropped.jpeg', 'hand5_o_dif_seg_3_cropped.jpeg', 'hand5_o_dif_seg_5_cropped.jpeg']\n",
            "['hand1_m_bot_seg_3_cropped.jpeg', 'hand1_m_bot_seg_1_cropped.jpeg', 'hand1_m_bot_seg_2_cropped.jpeg', 'hand1_m_bot_seg_4_cropped.jpeg', 'hand1_m_dif_seg_3_cropped.jpeg', 'hand1_m_bot_seg_5_cropped.jpeg', 'hand1_m_dif_seg_2_cropped.jpeg', 'hand1_m_dif_seg_1_cropped.jpeg', 'hand1_m_dif_seg_5_cropped.jpeg', 'hand1_m_dif_seg_4_cropped.jpeg', 'hand1_m_left_seg_3_cropped.jpeg', 'hand1_m_left_seg_1_cropped.jpeg', 'hand1_m_left_seg_2_cropped.jpeg', 'hand1_m_left_seg_4_cropped.jpeg', 'hand1_m_top_seg_3_cropped.jpeg', 'hand1_m_right_seg_3_cropped.jpeg', 'hand1_m_right_seg_1_cropped.jpeg', 'hand1_m_left_seg_5_cropped.jpeg', 'hand1_m_right_seg_2_cropped.jpeg', 'hand1_m_right_seg_5_cropped.jpeg', 'hand1_m_top_seg_2_cropped.jpeg', 'hand1_m_top_seg_1_cropped.jpeg', 'hand1_m_right_seg_4_cropped.jpeg', 'hand2_m_bot_seg_2_cropped.jpeg', 'hand2_m_bot_seg_3_cropped.jpeg', 'hand1_m_top_seg_4_cropped.jpeg', 'hand2_m_bot_seg_1_cropped.jpeg', 'hand1_m_top_seg_5_cropped.jpeg', 'hand2_m_dif_seg_1_cropped.jpeg', 'hand2_m_dif_seg_2_cropped.jpeg', 'hand2_m_bot_seg_5_cropped.jpeg', 'hand2_m_dif_seg_3_cropped.jpeg', 'hand2_m_bot_seg_4_cropped.jpeg', 'hand2_m_left_seg_2_cropped.jpeg', 'hand2_m_dif_seg_4_cropped.jpeg', 'hand2_m_left_seg_1_cropped.jpeg', 'hand2_m_dif_seg_5_cropped.jpeg', 'hand2_m_right_seg_3_cropped.jpeg', 'hand2_m_right_seg_2_cropped.jpeg', 'hand2_m_right_seg_1_cropped.jpeg', 'hand2_m_left_seg_5_cropped.jpeg', 'hand2_m_left_seg_4_cropped.jpeg', 'hand2_m_right_seg_4_cropped.jpeg', 'hand2_m_left_seg_3_cropped.jpeg', 'hand2_m_top_seg_2_cropped.jpeg', 'hand2_m_top_seg_3_cropped.jpeg', 'hand3_m_dif_seg_1_cropped.jpeg', 'hand3_m_dif_seg_2_cropped.jpeg', 'hand2_m_top_seg_4_cropped.jpeg', 'hand2_m_top_seg_5_cropped.jpeg', 'hand2_m_right_seg_5_cropped.jpeg', 'hand2_m_top_seg_1_cropped.jpeg', 'hand3_m_dif_seg_3_cropped.jpeg', 'hand3_m_dif_seg_4_cropped.jpeg', 'hand4_m_bot_seg_2_cropped.jpeg', 'hand4_m_bot_seg_1_cropped.jpeg', 'hand3_m_dif_seg_5_cropped.jpeg', 'hand4_m_bot_seg_3_cropped.jpeg', 'hand4_m_bot_seg_4_cropped.jpeg', 'hand4_m_bot_seg_5_cropped.jpeg', 'hand5_m_bot_seg_2_cropped.jpeg', 'hand5_m_bot_seg_1_cropped.jpeg', 'hand5_m_bot_seg_3_cropped.jpeg', 'hand5_m_bot_seg_4_cropped.jpeg', 'hand5_m_bot_seg_5_cropped.jpeg', 'hand5_m_dif_seg_2_cropped.jpeg', 'hand5_m_dif_seg_1_cropped.jpeg', 'hand5_m_dif_seg_3_cropped.jpeg', 'hand5_m_dif_seg_5_cropped.jpeg', 'hand5_m_dif_seg_4_cropped.jpeg']\n",
            "['hand1_g_bot_seg_1_cropped.jpeg', 'hand1_g_bot_seg_4_cropped.jpeg', 'hand1_g_bot_seg_3_cropped.jpeg', 'hand1_g_dif_seg_1_cropped.jpeg', 'hand1_g_bot_seg_2_cropped.jpeg', 'hand1_g_dif_seg_2_cropped.jpeg', 'hand1_g_bot_seg_5_cropped.jpeg', 'hand1_g_dif_seg_3_cropped.jpeg', 'hand1_g_dif_seg_5_cropped.jpeg', 'hand1_g_dif_seg_4_cropped.jpeg', 'hand1_g_left_seg_1_cropped.jpeg', 'hand1_g_left_seg_2_cropped.jpeg', 'hand1_g_left_seg_4_cropped.jpeg', 'hand1_g_left_seg_5_cropped.jpeg', 'hand1_g_left_seg_3_cropped.jpeg', 'hand1_g_right_seg_5_cropped.jpeg', 'hand1_g_right_seg_4_cropped.jpeg', 'hand1_g_top_seg_1_cropped.jpeg', 'hand1_g_right_seg_3_cropped.jpeg', 'hand1_g_right_seg_1_cropped.jpeg', 'hand1_g_right_seg_2_cropped.jpeg', 'hand1_g_top_seg_4_cropped.jpeg', 'hand1_g_top_seg_2_cropped.jpeg', 'hand1_g_top_seg_5_cropped.jpeg', 'hand1_g_top_seg_3_cropped.jpeg', 'hand2_g_bot_seg_1_cropped.jpeg', 'hand2_g_bot_seg_5_cropped.jpeg', 'hand2_g_dif_seg_1_cropped.jpeg', 'hand2_g_bot_seg_3_cropped.jpeg', 'hand2_g_bot_seg_2_cropped.jpeg', 'hand2_g_bot_seg_4_cropped.jpeg', 'hand2_g_dif_seg_2_cropped.jpeg', 'hand2_g_dif_seg_3_cropped.jpeg', 'hand2_g_dif_seg_5_cropped.jpeg', 'hand2_g_dif_seg_4_cropped.jpeg', 'hand2_g_left_seg_1_cropped.jpeg', 'hand2_g_right_seg_2_cropped.jpeg', 'hand2_g_right_seg_4_cropped.jpeg', 'hand2_g_right_seg_5_cropped.jpeg', 'hand2_g_right_seg_3_cropped.jpeg', 'hand2_g_left_seg_4_cropped.jpeg', 'hand2_g_left_seg_3_cropped.jpeg', 'hand2_g_left_seg_2_cropped.jpeg', 'hand2_g_left_seg_5_cropped.jpeg', 'hand2_g_right_seg_1_cropped.jpeg', 'hand2_g_top_seg_1_cropped.jpeg', 'hand2_g_top_seg_3_cropped.jpeg', 'hand2_g_top_seg_2_cropped.jpeg', 'hand2_g_top_seg_4_cropped.jpeg', 'hand2_g_top_seg_5_cropped.jpeg', 'hand4_g_bot_seg_1_cropped.jpeg', 'hand3_g_dif_seg_3_cropped.jpeg', 'hand3_g_dif_seg_2_cropped.jpeg', 'hand3_g_dif_seg_1_cropped.jpeg', 'hand3_g_dif_seg_4_cropped.jpeg', 'hand4_g_bot_seg_4_cropped.jpeg', 'hand4_g_bot_seg_3_cropped.jpeg', 'hand4_g_bot_seg_2_cropped.jpeg', 'hand3_g_dif_seg_5_cropped.jpeg', 'hand4_g_bot_seg_5_cropped.jpeg', 'hand5_g_bot_seg_4_cropped.jpeg', 'hand5_g_bot_seg_3_cropped.jpeg', 'hand5_g_bot_seg_2_cropped.jpeg', 'hand5_g_bot_seg_1_cropped.jpeg', 'hand5_g_bot_seg_5_cropped.jpeg', 'hand5_g_dif_seg_2_cropped.jpeg', 'hand5_g_dif_seg_3_cropped.jpeg', 'hand5_g_dif_seg_4_cropped.jpeg', 'hand5_g_dif_seg_1_cropped.jpeg', 'hand5_g_dif_seg_5_cropped.jpeg']\n",
            "['hand1_f_bot_seg_4_cropped.jpeg', 'hand1_f_bot_seg_5_cropped.jpeg', 'hand1_f_dif_seg_3_cropped.jpeg', 'hand1_f_dif_seg_1_cropped.jpeg', 'hand1_f_dif_seg_2_cropped.jpeg', 'hand1_f_dif_seg_4_cropped.jpeg', 'hand1_f_left_seg_5_cropped.jpeg', 'hand1_f_left_seg_1_cropped.jpeg', 'hand1_f_left_seg_3_cropped.jpeg', 'hand1_f_left_seg_4_cropped.jpeg', 'hand1_f_left_seg_2_cropped.jpeg', 'hand1_f_dif_seg_5_cropped.jpeg', 'hand1_f_bot_seg_2_cropped.jpeg', 'hand1_f_bot_seg_1_cropped.jpeg', 'hand1_f_bot_seg_3_cropped.jpeg', 'hand1_f_right_seg_1_cropped.jpeg', 'hand1_f_right_seg_5_cropped.jpeg', 'hand1_f_right_seg_3_cropped.jpeg', 'hand1_f_right_seg_2_cropped.jpeg', 'hand1_f_top_seg_1_cropped.jpeg', 'hand1_f_top_seg_5_cropped.jpeg', 'hand1_f_top_seg_2_cropped.jpeg', 'hand1_f_top_seg_3_cropped.jpeg', 'hand1_f_top_seg_4_cropped.jpeg', 'hand1_f_right_seg_4_cropped.jpeg', 'hand2_f_bot_seg_3_cropped.jpeg', 'hand2_f_dif_seg_5_cropped.jpeg', 'hand2_f_bot_seg_1_cropped.jpeg', 'hand2_f_bot_seg_4_cropped.jpeg', 'hand2_f_bot_seg_2_cropped.jpeg', 'hand2_f_dif_seg_3_cropped.jpeg', 'hand2_f_dif_seg_1_cropped.jpeg', 'hand2_f_dif_seg_4_cropped.jpeg', 'hand2_f_dif_seg_2_cropped.jpeg', 'hand2_f_bot_seg_5_cropped.jpeg', 'hand2_f_left_seg_1_cropped.jpeg', 'hand2_f_left_seg_2_cropped.jpeg', 'hand2_f_left_seg_4_cropped.jpeg', 'hand2_f_left_seg_3_cropped.jpeg', 'hand2_f_right_seg_1_cropped.jpeg', 'hand2_f_right_seg_3_cropped.jpeg', 'hand2_f_right_seg_5_cropped.jpeg', 'hand2_f_right_seg_2_cropped.jpeg', 'hand2_f_right_seg_4_cropped.jpeg', 'hand2_f_top_seg_1_cropped.jpeg', 'hand2_f_left_seg_5_cropped.jpeg', 'hand2_f_top_seg_2_cropped.jpeg', 'hand2_f_top_seg_3_cropped.jpeg', 'hand2_f_top_seg_4_cropped.jpeg', 'hand2_f_top_seg_5_cropped.jpeg', 'hand4_f_bot_seg_3_cropped.jpeg', 'hand3_f_dif_seg_1_cropped.jpeg', 'hand3_f_dif_seg_4_cropped.jpeg', 'hand3_f_dif_seg_2_cropped.jpeg', 'hand3_f_dif_seg_5_cropped.jpeg', 'hand4_f_bot_seg_4_cropped.jpeg', 'hand4_f_bot_seg_1_cropped.jpeg', 'hand4_f_bot_seg_2_cropped.jpeg', 'hand3_f_dif_seg_3_cropped.jpeg', 'hand4_f_bot_seg_5_cropped.jpeg', 'hand5_f_bot_seg_1_cropped.jpeg', 'hand5_f_bot_seg_3_cropped.jpeg', 'hand5_f_bot_seg_2_cropped.jpeg', 'hand5_f_bot_seg_4_cropped.jpeg', 'hand5_f_bot_seg_5_cropped.jpeg', 'hand5_f_dif_seg_3_cropped.jpeg', 'hand5_f_dif_seg_2_cropped.jpeg', 'hand5_f_dif_seg_1_cropped.jpeg', 'hand5_f_dif_seg_5_cropped.jpeg', 'hand5_f_dif_seg_4_cropped.jpeg']\n",
            "['hand1_d_bot_seg_4_cropped.jpeg', 'hand1_d_dif_seg_1_cropped.jpeg', 'hand1_d_dif_seg_2_cropped.jpeg', 'hand1_d_bot_seg_5_cropped.jpeg', 'hand1_d_bot_seg_3_cropped.jpeg', 'hand1_d_bot_seg_2_cropped.jpeg', 'hand1_d_bot_seg_1_cropped.jpeg', 'hand1_d_left_seg_1_cropped.jpeg', 'hand1_d_dif_seg_3_cropped.jpeg', 'hand1_d_dif_seg_4_cropped.jpeg', 'hand1_d_dif_seg_5_cropped.jpeg', 'hand1_d_left_seg_2_cropped.jpeg', 'hand1_d_right_seg_2_cropped.jpeg', 'hand1_d_right_seg_1_cropped.jpeg', 'hand1_d_left_seg_5_cropped.jpeg', 'hand1_d_left_seg_4_cropped.jpeg', 'hand1_d_left_seg_3_cropped.jpeg', 'hand1_d_right_seg_4_cropped.jpeg', 'hand1_d_top_seg_1_cropped.jpeg', 'hand1_d_right_seg_3_cropped.jpeg', 'hand1_d_right_seg_5_cropped.jpeg', 'hand1_d_top_seg_2_cropped.jpeg', 'hand2_d_bot_seg_3_cropped.jpeg', 'hand2_d_bot_seg_4_cropped.jpeg', 'hand2_d_bot_seg_5_cropped.jpeg', 'hand2_d_dif_seg_1_cropped.jpeg', 'hand1_d_top_seg_5_cropped.jpeg', 'hand1_d_top_seg_3_cropped.jpeg', 'hand1_d_top_seg_4_cropped.jpeg', 'hand2_d_bot_seg_2_cropped.jpeg', 'hand2_d_bot_seg_1_cropped.jpeg', 'hand2_d_dif_seg_2_cropped.jpeg', 'hand2_d_left_seg_3_cropped.jpeg', 'hand2_d_dif_seg_3_cropped.jpeg', 'hand2_d_dif_seg_5_cropped.jpeg', 'hand2_d_dif_seg_4_cropped.jpeg', 'hand2_d_left_seg_1_cropped.jpeg', 'hand2_d_left_seg_5_cropped.jpeg', 'hand2_d_left_seg_2_cropped.jpeg', 'hand2_d_left_seg_4_cropped.jpeg', 'hand2_d_right_seg_2_cropped.jpeg', 'hand2_d_right_seg_1_cropped.jpeg', 'hand2_d_right_seg_5_cropped.jpeg', 'hand2_d_right_seg_4_cropped.jpeg', 'hand2_d_right_seg_3_cropped.jpeg', 'hand3_d_dif_seg_1_cropped.jpeg', 'hand2_d_top_seg_5_cropped.jpeg', 'hand2_d_top_seg_4_cropped.jpeg', 'hand2_d_top_seg_2_cropped.jpeg', 'hand2_d_top_seg_1_cropped.jpeg', 'hand2_d_top_seg_3_cropped.jpeg', 'hand3_d_dif_seg_2_cropped.jpeg', 'hand3_d_dif_seg_3_cropped.jpeg', 'hand3_d_dif_seg_4_cropped.jpeg', 'hand3_d_dif_seg_5_cropped.jpeg', 'hand4_d_bot_seg_1_cropped.jpeg', 'hand5_d_bot_seg_2_cropped.jpeg', 'hand4_d_bot_seg_5_cropped.jpeg', 'hand4_d_bot_seg_3_cropped.jpeg', 'hand5_d_bot_seg_1_cropped.jpeg', 'hand4_d_bot_seg_2_cropped.jpeg', 'hand4_d_bot_seg_4_cropped.jpeg', 'hand5_d_bot_seg_3_cropped.jpeg', 'hand5_d_bot_seg_4_cropped.jpeg', 'hand5_d_bot_seg_5_cropped.jpeg', 'hand5_d_dif_seg_4_cropped.jpeg', 'hand5_d_dif_seg_3_cropped.jpeg', 'hand5_d_dif_seg_1_cropped.jpeg', 'hand5_d_dif_seg_2_cropped.jpeg', 'hand5_d_dif_seg_5_cropped.jpeg']\n",
            "['hand1_a_bot_seg_2_cropped.jpeg', 'hand1_a_bot_seg_1_cropped.jpeg', 'hand1_a_bot_seg_4_cropped.jpeg', 'hand1_a_dif_seg_1_cropped.jpeg', 'hand1_a_bot_seg_3_cropped.jpeg', 'hand1_a_bot_seg_5_cropped.jpeg', 'hand1_a_dif_seg_3_cropped.jpeg', 'hand1_a_dif_seg_2_cropped.jpeg', 'hand1_a_dif_seg_5_cropped.jpeg', 'hand1_a_left_seg_2_cropped.jpeg', 'hand1_a_dif_seg_4_cropped.jpeg', 'hand1_a_left_seg_1_cropped.jpeg', 'hand1_a_left_seg_4_cropped.jpeg', 'hand1_a_left_seg_3_cropped.jpeg', 'hand1_a_left_seg_5_cropped.jpeg', 'hand1_a_right_seg_1_cropped.jpeg', 'hand1_a_right_seg_3_cropped.jpeg', 'hand1_a_right_seg_2_cropped.jpeg', 'hand1_a_top_seg_1_cropped.jpeg', 'hand1_a_right_seg_5_cropped.jpeg', 'hand1_a_right_seg_4_cropped.jpeg', 'hand1_a_top_seg_2_cropped.jpeg', 'hand2_a_bot_seg_3_cropped.jpeg', 'hand1_a_top_seg_3_cropped.jpeg', 'hand2_a_bot_seg_2_cropped.jpeg', 'hand1_a_top_seg_5_cropped.jpeg', 'hand2_a_bot_seg_1_cropped.jpeg', 'hand1_a_top_seg_4_cropped.jpeg', 'hand2_a_bot_seg_4_cropped.jpeg', 'hand2_a_dif_seg_1_cropped.jpeg', 'hand2_a_bot_seg_5_cropped.jpeg', 'hand2_a_dif_seg_2_cropped.jpeg', 'hand2_a_left_seg_3_cropped.jpeg', 'hand2_a_dif_seg_5_cropped.jpeg', 'hand2_a_dif_seg_3_cropped.jpeg', 'hand2_a_left_seg_1_cropped.jpeg', 'hand2_a_dif_seg_4_cropped.jpeg', 'hand2_a_left_seg_2_cropped.jpeg', 'hand2_a_left_seg_4_cropped.jpeg', 'hand2_a_left_seg_5_cropped.jpeg', 'hand2_a_right_seg_1_cropped.jpeg', 'hand2_a_right_seg_2_cropped.jpeg', 'hand2_a_top_seg_3_cropped.jpeg', 'hand2_a_top_seg_1_cropped.jpeg', 'hand2_a_right_seg_4_cropped.jpeg', 'hand2_a_right_seg_3_cropped.jpeg', 'hand2_a_right_seg_5_cropped.jpeg', 'hand2_a_top_seg_2_cropped.jpeg', 'hand3_a_dif_seg_1_cropped.jpeg', 'hand2_a_top_seg_4_cropped.jpeg', 'hand2_a_top_seg_5_cropped.jpeg', 'hand3_a_dif_seg_2_cropped.jpeg', 'hand4_a_bot_seg_3_cropped.jpeg', 'hand3_a_dif_seg_4_cropped.jpeg', 'hand3_a_dif_seg_5_cropped.jpeg', 'hand3_a_dif_seg_3_cropped.jpeg', 'hand4_a_bot_seg_1_cropped.jpeg', 'hand4_a_bot_seg_5_cropped.jpeg', 'hand4_a_bot_seg_4_cropped.jpeg', 'hand5_a_bot_seg_1_cropped.jpeg', 'hand4_a_bot_seg_2_cropped.jpeg', 'hand5_a_bot_seg_2_cropped.jpeg', 'hand5_a_bot_seg_4_cropped.jpeg', 'hand5_a_bot_seg_3_cropped.jpeg', 'hand5_a_bot_seg_5_cropped.jpeg', 'hand5_a_dif_seg_1_cropped.jpeg', 'hand5_a_dif_seg_3_cropped.jpeg', 'hand5_a_dif_seg_4_cropped.jpeg', 'hand5_a_dif_seg_5_cropped.jpeg', 'hand5_a_dif_seg_2_cropped.jpeg']\n",
            "['hand1_e_bot_seg_2_cropped.jpeg', 'hand1_e_bot_seg_3_cropped.jpeg', 'hand1_e_bot_seg_1_cropped.jpeg', 'hand1_e_dif_seg_2_cropped.jpeg', 'hand1_e_dif_seg_1_cropped.jpeg', 'hand1_e_bot_seg_5_cropped.jpeg', 'hand1_e_dif_seg_3_cropped.jpeg', 'hand1_e_bot_seg_4_cropped.jpeg', 'hand1_e_dif_seg_4_cropped.jpeg', 'hand1_e_left_seg_1_cropped.jpeg', 'hand1_e_dif_seg_5_cropped.jpeg', 'hand1_e_left_seg_3_cropped.jpeg', 'hand1_e_left_seg_2_cropped.jpeg', 'hand1_e_left_seg_4_cropped.jpeg', 'hand1_e_left_seg_5_cropped.jpeg', 'hand1_e_right_seg_1_cropped.jpeg', 'hand1_e_right_seg_2_cropped.jpeg', 'hand1_e_right_seg_3_cropped.jpeg', 'hand1_e_top_seg_3_cropped.jpeg', 'hand1_e_top_seg_2_cropped.jpeg', 'hand1_e_right_seg_5_cropped.jpeg', 'hand1_e_top_seg_1_cropped.jpeg', 'hand1_e_right_seg_4_cropped.jpeg', 'hand1_e_top_seg_4_cropped.jpeg', 'hand1_e_top_seg_5_cropped.jpeg', 'hand2_e_bot_seg_1_cropped.jpeg', 'hand2_e_bot_seg_2_cropped.jpeg', 'hand2_e_bot_seg_3_cropped.jpeg', 'hand2_e_dif_seg_4_cropped.jpeg', 'hand2_e_dif_seg_2_cropped.jpeg', 'hand2_e_bot_seg_5_cropped.jpeg', 'hand2_e_dif_seg_1_cropped.jpeg', 'hand2_e_bot_seg_4_cropped.jpeg', 'hand2_e_dif_seg_5_cropped.jpeg', 'hand2_e_left_seg_2_cropped.jpeg', 'hand2_e_left_seg_1_cropped.jpeg', 'hand2_e_dif_seg_3_cropped.jpeg', 'hand2_e_left_seg_3_cropped.jpeg', 'hand2_e_right_seg_2_cropped.jpeg', 'hand2_e_left_seg_4_cropped.jpeg', 'hand2_e_left_seg_5_cropped.jpeg', 'hand2_e_right_seg_1_cropped.jpeg', 'hand2_e_right_seg_3_cropped.jpeg', 'hand2_e_right_seg_4_cropped.jpeg', 'hand2_e_top_seg_2_cropped.jpeg', 'hand2_e_right_seg_5_cropped.jpeg', 'hand2_e_top_seg_1_cropped.jpeg', 'hand2_e_top_seg_3_cropped.jpeg', 'hand3_e_dif_seg_4_cropped.jpeg', 'hand2_e_top_seg_4_cropped.jpeg', 'hand2_e_top_seg_5_cropped.jpeg', 'hand3_e_dif_seg_2_cropped.jpeg', 'hand3_e_dif_seg_1_cropped.jpeg', 'hand4_e_bot_seg_1_cropped.jpeg', 'hand4_e_bot_seg_2_cropped.jpeg', 'hand3_e_dif_seg_5_cropped.jpeg', 'hand3_e_dif_seg_3_cropped.jpeg', 'hand5_e_bot_seg_2_cropped.jpeg', 'hand4_e_bot_seg_3_cropped.jpeg', 'hand5_e_bot_seg_5_cropped.jpeg', 'hand5_e_bot_seg_4_cropped.jpeg', 'hand5_e_dif_seg_1_cropped.jpeg', 'hand5_e_bot_seg_3_cropped.jpeg', 'hand4_e_bot_seg_4_cropped.jpeg', 'hand4_e_bot_seg_5_cropped.jpeg', 'hand5_e_bot_seg_1_cropped.jpeg', 'hand5_e_dif_seg_2_cropped.jpeg', 'hand5_e_dif_seg_3_cropped.jpeg', 'hand5_e_dif_seg_5_cropped.jpeg', 'hand5_e_dif_seg_4_cropped.jpeg']\n",
            "['hand1_c_bot_seg_2_cropped.jpeg', 'hand1_c_bot_seg_1_cropped.jpeg', 'hand1_c_bot_seg_5_cropped.jpeg', 'hand1_c_bot_seg_3_cropped.jpeg', 'hand1_c_bot_seg_4_cropped.jpeg', 'hand1_c_dif_seg_4_cropped.jpeg', 'hand1_c_dif_seg_3_cropped.jpeg', 'hand1_c_dif_seg_1_cropped.jpeg', 'hand1_c_dif_seg_2_cropped.jpeg', 'hand1_c_left_seg_1_cropped.jpeg', 'hand1_c_right_seg_1_cropped.jpeg', 'hand1_c_right_seg_4_cropped.jpeg', 'hand1_c_right_seg_2_cropped.jpeg', 'hand1_c_right_seg_3_cropped.jpeg', 'hand1_c_left_seg_4_cropped.jpeg', 'hand1_c_right_seg_5_cropped.jpeg', 'hand1_c_left_seg_2_cropped.jpeg', 'hand1_c_left_seg_3_cropped.jpeg', 'hand1_c_left_seg_5_cropped.jpeg', 'hand1_c_dif_seg_5_cropped.jpeg', 'hand1_c_top_seg_1_cropped.jpeg', 'hand1_c_top_seg_2_cropped.jpeg', 'hand1_c_top_seg_3_cropped.jpeg', 'hand1_c_top_seg_4_cropped.jpeg', 'hand2_c_bot_seg_5_cropped.jpeg', 'hand1_c_top_seg_5_cropped.jpeg', 'hand2_c_bot_seg_1_cropped.jpeg', 'hand2_c_bot_seg_3_cropped.jpeg', 'hand2_c_bot_seg_2_cropped.jpeg', 'hand2_c_bot_seg_4_cropped.jpeg', 'hand2_c_dif_seg_3_cropped.jpeg', 'hand2_c_dif_seg_2_cropped.jpeg', 'hand2_c_dif_seg_1_cropped.jpeg', 'hand2_c_dif_seg_4_cropped.jpeg', 'hand2_c_left_seg_5_cropped.jpeg', 'hand2_c_dif_seg_5_cropped.jpeg', 'hand2_c_right_seg_3_cropped.jpeg', 'hand2_c_right_seg_2_cropped.jpeg', 'hand2_c_right_seg_1_cropped.jpeg', 'hand2_c_left_seg_2_cropped.jpeg', 'hand2_c_left_seg_4_cropped.jpeg', 'hand2_c_left_seg_1_cropped.jpeg', 'hand2_c_left_seg_3_cropped.jpeg', 'hand2_c_right_seg_4_cropped.jpeg', 'hand2_c_top_seg_4_cropped.jpeg', 'hand2_c_right_seg_5_cropped.jpeg', 'hand2_c_top_seg_2_cropped.jpeg', 'hand2_c_top_seg_1_cropped.jpeg', 'hand3_c_dif_seg_2_cropped.jpeg', 'hand2_c_top_seg_5_cropped.jpeg', 'hand2_c_top_seg_3_cropped.jpeg', 'hand3_c_dif_seg_1_cropped.jpeg', 'hand3_c_dif_seg_3_cropped.jpeg', 'hand3_c_dif_seg_5_cropped.jpeg', 'hand4_c_bot_seg_3_cropped.jpeg', 'hand3_c_dif_seg_4_cropped.jpeg', 'hand4_c_bot_seg_2_cropped.jpeg', 'hand4_c_bot_seg_1_cropped.jpeg', 'hand5_c_bot_seg_3_cropped.jpeg', 'hand4_c_bot_seg_4_cropped.jpeg', 'hand5_c_bot_seg_2_cropped.jpeg', 'hand5_c_bot_seg_1_cropped.jpeg', 'hand4_c_bot_seg_5_cropped.jpeg', 'hand5_c_dif_seg_2_cropped.jpeg', 'hand5_c_bot_seg_5_cropped.jpeg', 'hand5_c_bot_seg_4_cropped.jpeg', 'hand5_c_dif_seg_1_cropped.jpeg', 'hand5_c_dif_seg_3_cropped.jpeg', 'hand5_c_dif_seg_4_cropped.jpeg', 'hand5_c_dif_seg_5_cropped.jpeg']\n",
            "['hand1_b_bot_seg_1_cropped.jpeg', 'hand1_b_bot_seg_3_cropped.jpeg', 'hand1_b_bot_seg_2_cropped.jpeg', 'hand1_b_dif_seg_2_cropped.jpeg', 'hand1_b_bot_seg_5_cropped.jpeg', 'hand1_b_bot_seg_4_cropped.jpeg', 'hand1_b_dif_seg_1_cropped.jpeg', 'hand1_b_dif_seg_3_cropped.jpeg', 'hand1_b_dif_seg_5_cropped.jpeg', 'hand1_b_left_seg_4_cropped.jpeg', 'hand1_b_dif_seg_4_cropped.jpeg', 'hand1_b_left_seg_3_cropped.jpeg', 'hand1_b_left_seg_1_cropped.jpeg', 'hand1_b_left_seg_2_cropped.jpeg', 'hand1_b_right_seg_1_cropped.jpeg', 'hand1_b_left_seg_5_cropped.jpeg', 'hand1_b_right_seg_2_cropped.jpeg', 'hand1_b_right_seg_3_cropped.jpeg', 'hand1_b_top_seg_4_cropped.jpeg', 'hand1_b_right_seg_5_cropped.jpeg', 'hand1_b_right_seg_4_cropped.jpeg', 'hand1_b_top_seg_1_cropped.jpeg', 'hand1_b_top_seg_2_cropped.jpeg', 'hand2_b_bot_seg_1_cropped.jpeg', 'hand1_b_top_seg_5_cropped.jpeg', 'hand2_b_bot_seg_2_cropped.jpeg', 'hand1_b_top_seg_3_cropped.jpeg', 'hand2_b_bot_seg_3_cropped.jpeg', 'hand2_b_dif_seg_2_cropped.jpeg', 'hand2_b_dif_seg_4_cropped.jpeg', 'hand2_b_dif_seg_5_cropped.jpeg', 'hand2_b_left_seg_1_cropped.jpeg', 'hand2_b_left_seg_2_cropped.jpeg', 'hand2_b_dif_seg_3_cropped.jpeg', 'hand2_b_bot_seg_4_cropped.jpeg', 'hand2_b_bot_seg_5_cropped.jpeg', 'hand2_b_dif_seg_1_cropped.jpeg', 'hand2_b_left_seg_3_cropped.jpeg', 'hand2_b_right_seg_4_cropped.jpeg', 'hand2_b_left_seg_5_cropped.jpeg', 'hand2_b_right_seg_3_cropped.jpeg', 'hand2_b_right_seg_2_cropped.jpeg', 'hand2_b_left_seg_4_cropped.jpeg', 'hand2_b_right_seg_1_cropped.jpeg', 'hand2_b_right_seg_5_cropped.jpeg', 'hand2_b_top_seg_2_cropped.jpeg', 'hand2_b_top_seg_1_cropped.jpeg', 'hand2_b_top_seg_3_cropped.jpeg', 'hand3_b_dif_seg_4_cropped.jpeg', 'hand2_b_top_seg_4_cropped.jpeg', 'hand3_b_dif_seg_3_cropped.jpeg', 'hand3_b_dif_seg_1_cropped.jpeg', 'hand2_b_top_seg_5_cropped.jpeg', 'hand3_b_dif_seg_2_cropped.jpeg', 'hand4_b_bot_seg_2_cropped.jpeg', 'hand4_b_bot_seg_1_cropped.jpeg', 'hand3_b_dif_seg_5_cropped.jpeg', 'hand4_b_bot_seg_3_cropped.jpeg', 'hand5_b_bot_seg_4_cropped.jpeg', 'hand4_b_bot_seg_5_cropped.jpeg', 'hand4_b_bot_seg_4_cropped.jpeg', 'hand5_b_bot_seg_2_cropped.jpeg', 'hand5_b_bot_seg_1_cropped.jpeg', 'hand5_b_dif_seg_2_cropped.jpeg', 'hand5_b_dif_seg_1_cropped.jpeg', 'hand5_b_bot_seg_5_cropped.jpeg', 'hand5_b_bot_seg_3_cropped.jpeg', 'hand5_b_dif_seg_3_cropped.jpeg', 'hand5_b_dif_seg_5_cropped.jpeg', 'hand5_b_dif_seg_4_cropped.jpeg']\n",
            "[]\n",
            "data set loaded\n",
            "WARNING:tensorflow:From /usr/local/lib/python3.6/dist-packages/keras/backend/tensorflow_backend.py:66: The name tf.get_default_graph is deprecated. Please use tf.compat.v1.get_default_graph instead.\n",
            "\n",
            "WARNING:tensorflow:From /usr/local/lib/python3.6/dist-packages/keras/backend/tensorflow_backend.py:541: The name tf.placeholder is deprecated. Please use tf.compat.v1.placeholder instead.\n",
            "\n",
            "WARNING:tensorflow:From /usr/local/lib/python3.6/dist-packages/keras/backend/tensorflow_backend.py:4432: The name tf.random_uniform is deprecated. Please use tf.random.uniform instead.\n",
            "\n",
            "WARNING:tensorflow:From /usr/local/lib/python3.6/dist-packages/keras/backend/tensorflow_backend.py:4267: The name tf.nn.max_pool is deprecated. Please use tf.nn.max_pool2d instead.\n",
            "\n",
            "Network Made\n",
            "WARNING:tensorflow:From /usr/local/lib/python3.6/dist-packages/keras/optimizers.py:793: The name tf.train.Optimizer is deprecated. Please use tf.compat.v1.train.Optimizer instead.\n",
            "\n",
            "WARNING:tensorflow:From /usr/local/lib/python3.6/dist-packages/keras/backend/tensorflow_backend.py:3576: The name tf.log is deprecated. Please use tf.math.log instead.\n",
            "\n"
          ],
          "name": "stdout"
        },
        {
          "output_type": "stream",
          "text": [
            "/usr/local/lib/python3.6/dist-packages/ipykernel_launcher.py:5: UserWarning: Update your `Conv2D` call to the Keras 2 API: `Conv2D(32, (3, 3), input_shape=(400, 400,..., padding=\"same\")`\n",
            "  \"\"\"\n",
            "/usr/local/lib/python3.6/dist-packages/ipykernel_launcher.py:7: UserWarning: Update your `Conv2D` call to the Keras 2 API: `Conv2D(32, (3, 3))`\n",
            "  import sys\n",
            "/usr/local/lib/python3.6/dist-packages/ipykernel_launcher.py:11: UserWarning: Update your `Conv2D` call to the Keras 2 API: `Conv2D(64, (3, 3), padding=\"same\")`\n",
            "  # This is added back by InteractiveShellApp.init_path()\n",
            "/usr/local/lib/python3.6/dist-packages/ipykernel_launcher.py:13: UserWarning: Update your `Conv2D` call to the Keras 2 API: `Conv2D(64, (3, 3))`\n",
            "  del sys.path[0]\n",
            "/usr/local/lib/python3.6/dist-packages/ipykernel_launcher.py:10: UserWarning: The `nb_epoch` argument in `fit` has been renamed `epochs`.\n",
            "  # Remove the CWD from sys.path while we load stuff.\n"
          ],
          "name": "stderr"
        },
        {
          "output_type": "stream",
          "text": [
            "WARNING:tensorflow:From /usr/local/lib/python3.6/dist-packages/tensorflow_core/python/ops/math_grad.py:1424: where (from tensorflow.python.ops.array_ops) is deprecated and will be removed in a future version.\n",
            "Instructions for updating:\n",
            "Use tf.where in 2.0, which has the same broadcast rule as np.where\n",
            "WARNING:tensorflow:From /usr/local/lib/python3.6/dist-packages/keras/backend/tensorflow_backend.py:1033: The name tf.assign_add is deprecated. Please use tf.compat.v1.assign_add instead.\n",
            "\n",
            "WARNING:tensorflow:From /usr/local/lib/python3.6/dist-packages/keras/backend/tensorflow_backend.py:1020: The name tf.assign is deprecated. Please use tf.compat.v1.assign instead.\n",
            "\n",
            "WARNING:tensorflow:From /usr/local/lib/python3.6/dist-packages/keras/backend/tensorflow_backend.py:3005: The name tf.Session is deprecated. Please use tf.compat.v1.Session instead.\n",
            "\n",
            "Epoch 1/10\n",
            "WARNING:tensorflow:From /usr/local/lib/python3.6/dist-packages/keras/backend/tensorflow_backend.py:190: The name tf.get_default_session is deprecated. Please use tf.compat.v1.get_default_session instead.\n",
            "\n",
            "WARNING:tensorflow:From /usr/local/lib/python3.6/dist-packages/keras/backend/tensorflow_backend.py:197: The name tf.ConfigProto is deprecated. Please use tf.compat.v1.ConfigProto instead.\n",
            "\n",
            "WARNING:tensorflow:From /usr/local/lib/python3.6/dist-packages/keras/backend/tensorflow_backend.py:207: The name tf.global_variables is deprecated. Please use tf.compat.v1.global_variables instead.\n",
            "\n",
            "WARNING:tensorflow:From /usr/local/lib/python3.6/dist-packages/keras/backend/tensorflow_backend.py:216: The name tf.is_variable_initialized is deprecated. Please use tf.compat.v1.is_variable_initialized instead.\n",
            "\n",
            "WARNING:tensorflow:From /usr/local/lib/python3.6/dist-packages/keras/backend/tensorflow_backend.py:223: The name tf.variables_initializer is deprecated. Please use tf.compat.v1.variables_initializer instead.\n",
            "\n",
            "1825/1825 [==============================] - 20s 11ms/step - loss: 1.7762 - acc: 0.5529\n",
            "Epoch 2/10\n",
            "1825/1825 [==============================] - 13s 7ms/step - loss: 0.3433 - acc: 0.9079\n",
            "Epoch 3/10\n",
            "1825/1825 [==============================] - 13s 7ms/step - loss: 0.1561 - acc: 0.9518\n",
            "Epoch 4/10\n",
            "1825/1825 [==============================] - 13s 7ms/step - loss: 0.0775 - acc: 0.9742\n",
            "Epoch 5/10\n",
            "1825/1825 [==============================] - 13s 7ms/step - loss: 0.0141 - acc: 0.9956\n",
            "Epoch 6/10\n",
            "1825/1825 [==============================] - 13s 7ms/step - loss: 0.0189 - acc: 0.9945\n",
            "Epoch 7/10\n",
            "1825/1825 [==============================] - 13s 7ms/step - loss: 0.0186 - acc: 0.9929\n",
            "Epoch 8/10\n",
            "1825/1825 [==============================] - 13s 7ms/step - loss: 0.0158 - acc: 0.9934\n",
            "Epoch 9/10\n",
            "1825/1825 [==============================] - 13s 7ms/step - loss: 0.0646 - acc: 0.9847\n",
            "Epoch 10/10\n",
            "1825/1825 [==============================] - 13s 7ms/step - loss: 0.0480 - acc: 0.9885\n",
            "model Fit\n",
            "Model Built\n"
          ],
          "name": "stdout"
        }
      ]
    },
    {
      "cell_type": "code",
      "metadata": {
        "id": "ToRvchGQtutA",
        "colab_type": "code",
        "colab": {}
      },
      "source": [
        "model.save(\"/content/drive/My Drive/asl_dataset/asl2.model\")"
      ],
      "execution_count": 0,
      "outputs": []
    },
    {
      "cell_type": "code",
      "metadata": {
        "id": "PwZMUJ_YGTMz",
        "colab_type": "code",
        "colab": {}
      },
      "source": [
        "import cv2"
      ],
      "execution_count": 0,
      "outputs": []
    },
    {
      "cell_type": "code",
      "metadata": {
        "id": "rpdmqMutKPy3",
        "colab_type": "code",
        "colab": {}
      },
      "source": [
        "def prepare(filepath):\n",
        "    img_array = cv2.imread(filepath)\n",
        "    new_array = cv2.resize(img_array, (img_rows, img_cols))\n",
        "    return new_array.reshape(-1, img_rows, img_cols, 3)"
      ],
      "execution_count": 0,
      "outputs": []
    },
    {
      "cell_type": "code",
      "metadata": {
        "id": "XNAneZctKgM8",
        "colab_type": "code",
        "colab": {
          "base_uri": "https://localhost:8080/",
          "height": 34
        },
        "outputId": "89d81df2-dcf1-4035-f800-fad9c1313b74"
      },
      "source": [
        "prediction = model.predict([prepare(input())])"
      ],
      "execution_count": 22,
      "outputs": [
        {
          "output_type": "stream",
          "text": [
            "/content/drive/My Drive/asl_dataset/c/hand1_c_bot_seg_1_cropped.jpeg\n"
          ],
          "name": "stdout"
        }
      ]
    },
    {
      "cell_type": "code",
      "metadata": {
        "id": "xRndw64rK5x-",
        "colab_type": "code",
        "outputId": "7fb83b48-729e-44d2-df0e-00f911f843e5",
        "colab": {
          "base_uri": "https://localhost:8080/",
          "height": 67
        }
      },
      "source": [
        "prediction"
      ],
      "execution_count": 23,
      "outputs": [
        {
          "output_type": "execute_result",
          "data": {
            "text/plain": [
              "array([[0., 0., 0., 0., 0., 0., 0., 0., 0., 0., 0., 0., 1., 0., 0., 0.,\n",
              "        0., 0., 0., 0., 0., 0., 0., 0., 0., 0., 0., 0., 0., 0., 0., 0.,\n",
              "        0., 0., 0., 0.]], dtype=float32)"
            ]
          },
          "metadata": {
            "tags": []
          },
          "execution_count": 23
        }
      ]
    },
    {
      "cell_type": "code",
      "metadata": {
        "id": "daUCHFDkMoLt",
        "colab_type": "code",
        "outputId": "6a0004a5-48cf-4978-bd2d-50f72cc07542",
        "colab": {
          "base_uri": "https://localhost:8080/",
          "height": 34
        }
      },
      "source": [
        "numpy.argmax(prediction)"
      ],
      "execution_count": 24,
      "outputs": [
        {
          "output_type": "execute_result",
          "data": {
            "text/plain": [
              "12"
            ]
          },
          "metadata": {
            "tags": []
          },
          "execution_count": 24
        }
      ]
    },
    {
      "cell_type": "code",
      "metadata": {
        "id": "xIv8xd2cLAOj",
        "colab_type": "code",
        "colab": {}
      },
      "source": [
        "c=numpy.argmax(prediction)"
      ],
      "execution_count": 0,
      "outputs": []
    },
    {
      "cell_type": "code",
      "metadata": {
        "id": "nCex-mwDLLBk",
        "colab_type": "code",
        "outputId": "9bffde82-f64a-4ace-a174-81bd2823a8bc",
        "colab": {
          "base_uri": "https://localhost:8080/",
          "height": 34
        }
      },
      "source": [
        "for key in classes.keys():\n",
        "  if classes[key]==c:\n",
        "    print(key)"
      ],
      "execution_count": 26,
      "outputs": [
        {
          "output_type": "stream",
          "text": [
            "C\n"
          ],
          "name": "stdout"
        }
      ]
    },
    {
      "cell_type": "code",
      "metadata": {
        "id": "5j7cv3GXLqi4",
        "colab_type": "code",
        "colab": {}
      },
      "source": [
        ""
      ],
      "execution_count": 0,
      "outputs": []
    }
  ]
}